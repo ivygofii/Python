{
 "cells": [
  {
   "cell_type": "markdown",
   "metadata": {},
   "source": [
    "# Data Structures"
   ]
  },
  {
   "cell_type": "code",
   "execution_count": 1,
   "metadata": {},
   "outputs": [],
   "source": [
    "#\"\"\" List[]:            ordered,       changeable,          duplicates\n",
    " #   Tuple():           ordered,       unchangeable,        duplicates\n",
    "  #  Set{}:             Unordered,     addable?removable,   no duplicates\n",
    "  #  Dictionary{}:      Unordered,     changeable,          no duplicates\n",
    "#\"\"\""
   ]
  },
  {
   "cell_type": "code",
   "execution_count": 2,
   "metadata": {},
   "outputs": [],
   "source": [
    "L = [1,3,4.9,\"name\",3]\n",
    "T = (1,3,4.9,\"name\",3)\n",
    "S = {1,3,4.9,\"name\",3}\n",
    "D = {23:\"twothree\",'B':43,\"c\":\"cc\"}"
   ]
  },
  {
   "cell_type": "code",
   "execution_count": 3,
   "metadata": {},
   "outputs": [
    {
     "name": "stdout",
     "output_type": "stream",
     "text": [
      "The type of L is  <class 'list'>\n",
      "The type of T is  <class 'tuple'>\n",
      "The type of S is  <class 'set'>\n",
      "The type of D is  <class 'dict'>\n"
     ]
    }
   ],
   "source": [
    "print('The type of L is ', type(L))\n",
    "print('The type of T is ', type(T))\n",
    "print('The type of S is ', type(S))\n",
    "print('The type of D is ', type(D))"
   ]
  },
  {
   "cell_type": "code",
   "execution_count": 4,
   "metadata": {},
   "outputs": [
    {
     "name": "stdout",
     "output_type": "stream",
     "text": [
      "3\n",
      "3\n",
      "True\n",
      "twothree\n"
     ]
    }
   ],
   "source": [
    "print(L[1])\n",
    "print(T[1])\n",
    "print(3 in S)\n",
    "print(D[23])"
   ]
  },
  {
   "cell_type": "code",
   "execution_count": 5,
   "metadata": {},
   "outputs": [
    {
     "name": "stdout",
     "output_type": "stream",
     "text": [
      "43\n"
     ]
    }
   ],
   "source": [
    "print(D[\"B\"])"
   ]
  },
  {
   "cell_type": "code",
   "execution_count": 6,
   "metadata": {},
   "outputs": [
    {
     "data": {
      "text/plain": [
       "{1, 3, 4.9, 'name'}"
      ]
     },
     "execution_count": 6,
     "metadata": {},
     "output_type": "execute_result"
    }
   ],
   "source": [
    "S"
   ]
  },
  {
   "cell_type": "code",
   "execution_count": 7,
   "metadata": {},
   "outputs": [
    {
     "data": {
      "text/plain": [
       "[1, 3, 4.9, 'name', 3]"
      ]
     },
     "execution_count": 7,
     "metadata": {},
     "output_type": "execute_result"
    }
   ],
   "source": [
    "L"
   ]
  },
  {
   "cell_type": "code",
   "execution_count": 8,
   "metadata": {},
   "outputs": [
    {
     "data": {
      "text/plain": [
       "[3, 4.9]"
      ]
     },
     "execution_count": 8,
     "metadata": {},
     "output_type": "execute_result"
    }
   ],
   "source": [
    "L[1:3]"
   ]
  },
  {
   "cell_type": "code",
   "execution_count": 9,
   "metadata": {},
   "outputs": [
    {
     "data": {
      "text/plain": [
       "[3, 'name', 4.9, 3, 1]"
      ]
     },
     "execution_count": 9,
     "metadata": {},
     "output_type": "execute_result"
    }
   ],
   "source": [
    "L[::-1] #reverses the list, almost all functions under strings are the same as with list"
   ]
  },
  {
   "cell_type": "code",
   "execution_count": 10,
   "metadata": {},
   "outputs": [],
   "source": [
    "L = L + [\"how\",'are',6,\"you\"] #to append 2 lists"
   ]
  },
  {
   "cell_type": "code",
   "execution_count": 11,
   "metadata": {},
   "outputs": [
    {
     "data": {
      "text/plain": [
       "[1, 3, 4.9, 'name', 3, 'how', 'are', 6, 'you']"
      ]
     },
     "execution_count": 11,
     "metadata": {},
     "output_type": "execute_result"
    }
   ],
   "source": [
    "L"
   ]
  },
  {
   "cell_type": "code",
   "execution_count": 12,
   "metadata": {},
   "outputs": [],
   "source": [
    "L.append(6.8) #add an element to a list"
   ]
  },
  {
   "cell_type": "code",
   "execution_count": 13,
   "metadata": {},
   "outputs": [
    {
     "data": {
      "text/plain": [
       "[1, 3, 4.9, 'name', 3, 'how', 'are', 6, 'you', 6.8]"
      ]
     },
     "execution_count": 13,
     "metadata": {},
     "output_type": "execute_result"
    }
   ],
   "source": [
    "L"
   ]
  },
  {
   "cell_type": "code",
   "execution_count": 14,
   "metadata": {},
   "outputs": [],
   "source": [
    "T2 =(\"a\",\"b\",45)"
   ]
  },
  {
   "cell_type": "code",
   "execution_count": 15,
   "metadata": {},
   "outputs": [],
   "source": [
    "T3 = T+T2"
   ]
  },
  {
   "cell_type": "code",
   "execution_count": 16,
   "metadata": {},
   "outputs": [
    {
     "data": {
      "text/plain": [
       "(1, 3, 4.9, 'name', 3, 'a', 'b', 45)"
      ]
     },
     "execution_count": 16,
     "metadata": {},
     "output_type": "execute_result"
    }
   ],
   "source": [
    "T3 #you cannot insert another element into a tuple, you can only add 2 tuples together"
   ]
  },
  {
   "cell_type": "code",
   "execution_count": 17,
   "metadata": {},
   "outputs": [],
   "source": [
    "S.add(56)"
   ]
  },
  {
   "cell_type": "code",
   "execution_count": 18,
   "metadata": {},
   "outputs": [
    {
     "data": {
      "text/plain": [
       "{1, 3, 4.9, 56, 'name'}"
      ]
     },
     "execution_count": 18,
     "metadata": {},
     "output_type": "execute_result"
    }
   ],
   "source": [
    "S"
   ]
  },
  {
   "cell_type": "code",
   "execution_count": 19,
   "metadata": {},
   "outputs": [],
   "source": [
    "S.update({23,\"game\",1})"
   ]
  },
  {
   "cell_type": "code",
   "execution_count": 20,
   "metadata": {},
   "outputs": [
    {
     "data": {
      "text/plain": [
       "{1, 23, 3, 4.9, 56, 'game', 'name'}"
      ]
     },
     "execution_count": 20,
     "metadata": {},
     "output_type": "execute_result"
    }
   ],
   "source": [
    "S"
   ]
  },
  {
   "cell_type": "code",
   "execution_count": 21,
   "metadata": {},
   "outputs": [
    {
     "data": {
      "text/plain": [
       "{23: 'twothree', 'B': 43, 'c': 'cc'}"
      ]
     },
     "execution_count": 21,
     "metadata": {},
     "output_type": "execute_result"
    }
   ],
   "source": [
    "D"
   ]
  },
  {
   "cell_type": "code",
   "execution_count": 22,
   "metadata": {},
   "outputs": [],
   "source": [
    "D[\"newkey\"] = \"newvalue\""
   ]
  },
  {
   "cell_type": "code",
   "execution_count": 23,
   "metadata": {},
   "outputs": [
    {
     "data": {
      "text/plain": [
       "{23: 'twothree', 'B': 43, 'c': 'cc', 'newkey': 'newvalue'}"
      ]
     },
     "execution_count": 23,
     "metadata": {},
     "output_type": "execute_result"
    }
   ],
   "source": [
    "D"
   ]
  },
  {
   "cell_type": "code",
   "execution_count": 24,
   "metadata": {},
   "outputs": [],
   "source": [
    "D2 = {\"y\":\"YY\",\"z\":10}"
   ]
  },
  {
   "cell_type": "code",
   "execution_count": 25,
   "metadata": {},
   "outputs": [],
   "source": [
    "del L[3]"
   ]
  },
  {
   "cell_type": "code",
   "execution_count": 26,
   "metadata": {},
   "outputs": [
    {
     "data": {
      "text/plain": [
       "[1, 3, 4.9, 3, 'how', 'are', 6, 'you', 6.8]"
      ]
     },
     "execution_count": 26,
     "metadata": {},
     "output_type": "execute_result"
    }
   ],
   "source": [
    "L"
   ]
  },
  {
   "cell_type": "code",
   "execution_count": 27,
   "metadata": {},
   "outputs": [],
   "source": [
    "S.remove(\"game\")"
   ]
  },
  {
   "cell_type": "code",
   "execution_count": 28,
   "metadata": {},
   "outputs": [
    {
     "data": {
      "text/plain": [
       "{1, 23, 3, 4.9, 56, 'name'}"
      ]
     },
     "execution_count": 28,
     "metadata": {},
     "output_type": "execute_result"
    }
   ],
   "source": [
    "S"
   ]
  },
  {
   "cell_type": "code",
   "execution_count": 29,
   "metadata": {},
   "outputs": [
    {
     "data": {
      "text/plain": [
       "{23: 'twothree', 'B': 43, 'c': 'cc', 'newkey': 'newvalue'}"
      ]
     },
     "execution_count": 29,
     "metadata": {},
     "output_type": "execute_result"
    }
   ],
   "source": [
    "D"
   ]
  },
  {
   "cell_type": "code",
   "execution_count": 30,
   "metadata": {},
   "outputs": [],
   "source": [
    "del D['c']"
   ]
  },
  {
   "cell_type": "code",
   "execution_count": 79,
   "metadata": {},
   "outputs": [
    {
     "data": {
      "text/plain": [
       "{23: 'twothree',\n",
       " 'B': 43,\n",
       " 'newkey': 'newvalue',\n",
       " '12': ['24', '65', '87'],\n",
       " '45': ['44'],\n",
       " '66': ['77', '56']}"
      ]
     },
     "execution_count": 79,
     "metadata": {},
     "output_type": "execute_result"
    }
   ],
   "source": [
    "D"
   ]
  },
  {
   "cell_type": "code",
   "execution_count": 32,
   "metadata": {},
   "outputs": [
    {
     "data": {
      "text/plain": [
       "[1, 3, 4.9, 3, 'how', 'are', 6, 'you', 6.8]"
      ]
     },
     "execution_count": 32,
     "metadata": {},
     "output_type": "execute_result"
    }
   ],
   "source": [
    "L "
   ]
  },
  {
   "cell_type": "code",
   "execution_count": 33,
   "metadata": {},
   "outputs": [],
   "source": [
    "L2 = L"
   ]
  },
  {
   "cell_type": "code",
   "execution_count": 34,
   "metadata": {},
   "outputs": [
    {
     "data": {
      "text/plain": [
       "[1, 3, 4.9, 3, 'how', 'are', 6, 'you', 6.8]"
      ]
     },
     "execution_count": 34,
     "metadata": {},
     "output_type": "execute_result"
    }
   ],
   "source": [
    "L2"
   ]
  },
  {
   "cell_type": "code",
   "execution_count": 35,
   "metadata": {},
   "outputs": [],
   "source": [
    "L2[2] = \"FOUR POINT NINE\""
   ]
  },
  {
   "cell_type": "code",
   "execution_count": 36,
   "metadata": {},
   "outputs": [
    {
     "data": {
      "text/plain": [
       "[1, 3, 'FOUR POINT NINE', 3, 'how', 'are', 6, 'you', 6.8]"
      ]
     },
     "execution_count": 36,
     "metadata": {},
     "output_type": "execute_result"
    }
   ],
   "source": [
    "L2"
   ]
  },
  {
   "cell_type": "code",
   "execution_count": 37,
   "metadata": {},
   "outputs": [
    {
     "data": {
      "text/plain": [
       "[1, 3, 'FOUR POINT NINE', 3, 'how', 'are', 6, 'you', 6.8]"
      ]
     },
     "execution_count": 37,
     "metadata": {},
     "output_type": "execute_result"
    }
   ],
   "source": [
    "L #L also changes because both are pointing to the same structure in the memory"
   ]
  },
  {
   "cell_type": "code",
   "execution_count": 38,
   "metadata": {},
   "outputs": [],
   "source": [
    "L2 = L.copy() #this function does not affect the initial list when a change is made"
   ]
  },
  {
   "cell_type": "code",
   "execution_count": 39,
   "metadata": {},
   "outputs": [],
   "source": [
    "L2[2] = 4.9"
   ]
  },
  {
   "cell_type": "code",
   "execution_count": 40,
   "metadata": {},
   "outputs": [
    {
     "data": {
      "text/plain": [
       "[1, 3, 4.9, 3, 'how', 'are', 6, 'you', 6.8]"
      ]
     },
     "execution_count": 40,
     "metadata": {},
     "output_type": "execute_result"
    }
   ],
   "source": [
    "L2"
   ]
  },
  {
   "cell_type": "code",
   "execution_count": 41,
   "metadata": {},
   "outputs": [
    {
     "data": {
      "text/plain": [
       "[1, 3, 'FOUR POINT NINE', 3, 'how', 'are', 6, 'you', 6.8]"
      ]
     },
     "execution_count": 41,
     "metadata": {},
     "output_type": "execute_result"
    }
   ],
   "source": [
    "L #L doesnt change in a copy() function"
   ]
  },
  {
   "cell_type": "code",
   "execution_count": 42,
   "metadata": {},
   "outputs": [],
   "source": [
    "L3 = L[1:5]"
   ]
  },
  {
   "cell_type": "code",
   "execution_count": 43,
   "metadata": {},
   "outputs": [
    {
     "data": {
      "text/plain": [
       "[3, 'FOUR POINT NINE', 3, 'how']"
      ]
     },
     "execution_count": 43,
     "metadata": {},
     "output_type": "execute_result"
    }
   ],
   "source": [
    "L3"
   ]
  },
  {
   "cell_type": "code",
   "execution_count": 44,
   "metadata": {},
   "outputs": [],
   "source": [
    "L3[0] = \"three\""
   ]
  },
  {
   "cell_type": "code",
   "execution_count": 45,
   "metadata": {},
   "outputs": [
    {
     "data": {
      "text/plain": [
       "['three', 'FOUR POINT NINE', 3, 'how']"
      ]
     },
     "execution_count": 45,
     "metadata": {},
     "output_type": "execute_result"
    }
   ],
   "source": [
    "L3 # the change does not reflect in L."
   ]
  },
  {
   "cell_type": "code",
   "execution_count": 46,
   "metadata": {},
   "outputs": [
    {
     "name": "stdout",
     "output_type": "stream",
     "text": [
      "Help on built-in function append:\n",
      "\n",
      "append(object, /) method of builtins.list instance\n",
      "    Append object to the end of the list.\n",
      "\n"
     ]
    }
   ],
   "source": [
    "help(L.append)"
   ]
  },
  {
   "cell_type": "code",
   "execution_count": 47,
   "metadata": {},
   "outputs": [
    {
     "name": "stdout",
     "output_type": "stream",
     "text": [
      "Help on built-in function clear:\n",
      "\n",
      "clear() method of builtins.list instance\n",
      "    Remove all items from list.\n",
      "\n"
     ]
    }
   ],
   "source": [
    "help(L.clear)"
   ]
  },
  {
   "cell_type": "code",
   "execution_count": 48,
   "metadata": {},
   "outputs": [
    {
     "name": "stdout",
     "output_type": "stream",
     "text": [
      "Help on built-in function pop:\n",
      "\n",
      "pop(index=-1, /) method of builtins.list instance\n",
      "    Remove and return item at index (default last).\n",
      "    \n",
      "    Raises IndexError if list is empty or index is out of range.\n",
      "\n"
     ]
    }
   ],
   "source": [
    "help(L.pop)"
   ]
  },
  {
   "cell_type": "code",
   "execution_count": 49,
   "metadata": {},
   "outputs": [],
   "source": [
    "L.reverse()"
   ]
  },
  {
   "cell_type": "code",
   "execution_count": 50,
   "metadata": {},
   "outputs": [
    {
     "data": {
      "text/plain": [
       "[6.8, 'you', 6, 'are', 'how', 3, 'FOUR POINT NINE', 3, 1]"
      ]
     },
     "execution_count": 50,
     "metadata": {},
     "output_type": "execute_result"
    }
   ],
   "source": [
    "L"
   ]
  },
  {
   "cell_type": "code",
   "execution_count": 51,
   "metadata": {},
   "outputs": [
    {
     "data": {
      "text/plain": [
       "[6.8, 'you', 6, 'are', 'how', 3, 'FOUR POINT NINE', 3, 1]"
      ]
     },
     "execution_count": 51,
     "metadata": {},
     "output_type": "execute_result"
    }
   ],
   "source": [
    "L"
   ]
  },
  {
   "cell_type": "code",
   "execution_count": 52,
   "metadata": {},
   "outputs": [
    {
     "data": {
      "text/plain": [
       "(1, 3, 4.9, 'name', 3)"
      ]
     },
     "execution_count": 52,
     "metadata": {},
     "output_type": "execute_result"
    }
   ],
   "source": [
    "T"
   ]
  },
  {
   "cell_type": "code",
   "execution_count": 53,
   "metadata": {},
   "outputs": [
    {
     "data": {
      "text/plain": [
       "{1, 23, 3, 4.9, 56, 'name'}"
      ]
     },
     "execution_count": 53,
     "metadata": {},
     "output_type": "execute_result"
    }
   ],
   "source": [
    "S"
   ]
  },
  {
   "cell_type": "code",
   "execution_count": 78,
   "metadata": {},
   "outputs": [
    {
     "data": {
      "text/plain": [
       "{23: 'twothree',\n",
       " 'B': 43,\n",
       " 'newkey': 'newvalue',\n",
       " '12': ['24', '65', '87'],\n",
       " '45': ['44'],\n",
       " '66': ['77', '56']}"
      ]
     },
     "execution_count": 78,
     "metadata": {},
     "output_type": "execute_result"
    }
   ],
   "source": [
    "D"
   ]
  },
  {
   "cell_type": "code",
   "execution_count": 55,
   "metadata": {},
   "outputs": [],
   "source": [
    "D2 = {\"A\":L,\"B\":T,\"C\":S,\"D\":D}"
   ]
  },
  {
   "cell_type": "code",
   "execution_count": 56,
   "metadata": {},
   "outputs": [
    {
     "data": {
      "text/plain": [
       "'are'"
      ]
     },
     "execution_count": 56,
     "metadata": {},
     "output_type": "execute_result"
    }
   ],
   "source": [
    "D2[\"A\"][3]"
   ]
  },
  {
   "cell_type": "code",
   "execution_count": 57,
   "metadata": {},
   "outputs": [],
   "source": [
    "K = D2['D']"
   ]
  },
  {
   "cell_type": "code",
   "execution_count": 58,
   "metadata": {},
   "outputs": [
    {
     "data": {
      "text/plain": [
       "{23: 'twothree', 'B': 43, 'newkey': 'newvalue'}"
      ]
     },
     "execution_count": 58,
     "metadata": {},
     "output_type": "execute_result"
    }
   ],
   "source": [
    "K"
   ]
  },
  {
   "cell_type": "code",
   "execution_count": 59,
   "metadata": {},
   "outputs": [
    {
     "name": "stdout",
     "output_type": "stream",
     "text": [
      "23 twothree\n",
      "B 43\n",
      "newkey newvalue\n"
     ]
    }
   ],
   "source": [
    "for x in K:\n",
    "    print(x,K[x])"
   ]
  },
  {
   "cell_type": "code",
   "execution_count": 60,
   "metadata": {},
   "outputs": [],
   "source": [
    "L3 = [L,T,D,23,\"game\"]"
   ]
  },
  {
   "cell_type": "code",
   "execution_count": 61,
   "metadata": {},
   "outputs": [
    {
     "data": {
      "text/plain": [
       "[[6.8, 'you', 6, 'are', 'how', 3, 'FOUR POINT NINE', 3, 1],\n",
       " (1, 3, 4.9, 'name', 3),\n",
       " {23: 'twothree', 'B': 43, 'newkey': 'newvalue'},\n",
       " 23,\n",
       " 'game']"
      ]
     },
     "execution_count": 61,
     "metadata": {},
     "output_type": "execute_result"
    }
   ],
   "source": [
    "L3"
   ]
  },
  {
   "cell_type": "code",
   "execution_count": 62,
   "metadata": {},
   "outputs": [
    {
     "data": {
      "text/plain": [
       "dict"
      ]
     },
     "execution_count": 62,
     "metadata": {},
     "output_type": "execute_result"
    }
   ],
   "source": [
    "type(L3[2])"
   ]
  },
  {
   "cell_type": "code",
   "execution_count": 63,
   "metadata": {},
   "outputs": [],
   "source": [
    "L3 = [x**2 for x in range (10)]"
   ]
  },
  {
   "cell_type": "code",
   "execution_count": 64,
   "metadata": {},
   "outputs": [
    {
     "data": {
      "text/plain": [
       "[0, 1, 4, 9, 16, 25, 36, 49, 64, 81]"
      ]
     },
     "execution_count": 64,
     "metadata": {},
     "output_type": "execute_result"
    }
   ],
   "source": [
    "L3"
   ]
  },
  {
   "cell_type": "code",
   "execution_count": 65,
   "metadata": {},
   "outputs": [],
   "source": [
    "S3 = {x**2 for x in range (2,20,3)}"
   ]
  },
  {
   "cell_type": "code",
   "execution_count": 66,
   "metadata": {},
   "outputs": [
    {
     "data": {
      "text/plain": [
       "{4, 25, 64, 121, 196, 289}"
      ]
     },
     "execution_count": 66,
     "metadata": {},
     "output_type": "execute_result"
    }
   ],
   "source": [
    "S3"
   ]
  },
  {
   "cell_type": "code",
   "execution_count": 67,
   "metadata": {},
   "outputs": [
    {
     "data": {
      "text/plain": [
       "True"
      ]
     },
     "execution_count": 67,
     "metadata": {},
     "output_type": "execute_result"
    }
   ],
   "source": [
    "23 in D"
   ]
  },
  {
   "cell_type": "code",
   "execution_count": 68,
   "metadata": {},
   "outputs": [
    {
     "data": {
      "text/plain": [
       "False"
      ]
     },
     "execution_count": 68,
     "metadata": {},
     "output_type": "execute_result"
    }
   ],
   "source": [
    "43 in D"
   ]
  },
  {
   "cell_type": "code",
   "execution_count": 77,
   "metadata": {},
   "outputs": [
    {
     "data": {
      "text/plain": [
       "{23: 'twothree',\n",
       " 'B': 43,\n",
       " 'newkey': 'newvalue',\n",
       " '12': ['24', '65', '87'],\n",
       " '45': ['44'],\n",
       " '66': ['77', '56']}"
      ]
     },
     "execution_count": 77,
     "metadata": {},
     "output_type": "execute_result"
    }
   ],
   "source": [
    "D"
   ]
  },
  {
   "cell_type": "code",
   "execution_count": 5,
   "metadata": {},
   "outputs": [],
   "source": [
    "\"\"\"Let say you are a teacher, and you have different students records containing ID of students and the\n",
    "marks list in each subjects where different students have taken different number of subjects. All these\n",
    "records are in hard copy. You want to enter all the data in computer and want to compute the average \n",
    "mark of each students and display\"\"\"\n",
    "\n",
    "def getDataFromUser():\n",
    "    F = {}\n",
    "    while True:\n",
    "        studentId = input(\"Enter student ID: \")\n",
    "        marksList = input(\"Enter the marks by comma separated values: \")\n",
    "        moreStudents = input('Enter \"no\" to quit insertion: ')\n",
    "        if studentId in F:\n",
    "            print(studentId, \" is already inserted\")\n",
    "        else:\n",
    "            F[studentId] = marksList.split(\",\")\n",
    "        if moreStudents.lower() == \"no\":\n",
    "            return F\n",
    "        "
   ]
  },
  {
   "cell_type": "code",
   "execution_count": 6,
   "metadata": {},
   "outputs": [
    {
     "name": "stdout",
     "output_type": "stream",
     "text": [
      "Enter student ID: 23\n",
      "Enter the marks by comma separated values: 56,78,45,89\n",
      "Enter \"no\" to quit insertion: hj\n",
      "Enter student ID: 23\n",
      "Enter the marks by comma separated values: 67,98,90\n",
      "Enter \"no\" to quit insertion: hjhh\n",
      "23  is already inserted\n",
      "Enter student ID: 56\n",
      "Enter the marks by comma separated values: 78,3,89,67\n",
      "Enter \"no\" to quit insertion: no\n"
     ]
    }
   ],
   "source": [
    "studentData = getDataFromUser()"
   ]
  },
  {
   "cell_type": "code",
   "execution_count": 9,
   "metadata": {},
   "outputs": [
    {
     "data": {
      "text/plain": [
       "{'23': ['56', '78', '45', '89'], '56': ['78', '3', '89', '67']}"
      ]
     },
     "execution_count": 9,
     "metadata": {},
     "output_type": "execute_result"
    }
   ],
   "source": [
    "studentData"
   ]
  },
  {
   "cell_type": "code",
   "execution_count": 12,
   "metadata": {},
   "outputs": [],
   "source": [
    "def getAvgMarks(F):\n",
    "    avgMarks = {}\n",
    "    for x in F:\n",
    "        L = F[x]\n",
    "        s = 0\n",
    "        for marks in L:\n",
    "            s += int(marks)\n",
    "        avgMarks[x] = s/len(L)\n",
    "    return avgMarks"
   ]
  },
  {
   "cell_type": "code",
   "execution_count": 13,
   "metadata": {},
   "outputs": [],
   "source": [
    "avgM = getAvgMarks(studentData)"
   ]
  },
  {
   "cell_type": "code",
   "execution_count": 15,
   "metadata": {},
   "outputs": [
    {
     "name": "stdout",
     "output_type": "stream",
     "text": [
      "Student: 23 got avg mark as: 67.0\n",
      "Student: 56 got avg mark as: 59.25\n"
     ]
    }
   ],
   "source": [
    "for x in avgM:\n",
    "    print(\"Student:\",x,\"got avg mark as:\", avgM[x])"
   ]
  },
  {
   "cell_type": "markdown",
   "metadata": {},
   "source": [
    "# Numpy"
   ]
  },
  {
   "cell_type": "code",
   "execution_count": 16,
   "metadata": {},
   "outputs": [],
   "source": [
    "import numpy as np"
   ]
  },
  {
   "cell_type": "code",
   "execution_count": 17,
   "metadata": {},
   "outputs": [],
   "source": [
    "a = np.array([1,2,3,5,7])"
   ]
  },
  {
   "cell_type": "code",
   "execution_count": 18,
   "metadata": {},
   "outputs": [],
   "source": [
    "b = np.array((2,3,5))"
   ]
  },
  {
   "cell_type": "code",
   "execution_count": 19,
   "metadata": {},
   "outputs": [
    {
     "data": {
      "text/plain": [
       "numpy.ndarray"
      ]
     },
     "execution_count": 19,
     "metadata": {},
     "output_type": "execute_result"
    }
   ],
   "source": [
    "type (a)"
   ]
  },
  {
   "cell_type": "code",
   "execution_count": 20,
   "metadata": {},
   "outputs": [
    {
     "data": {
      "text/plain": [
       "numpy.ndarray"
      ]
     },
     "execution_count": 20,
     "metadata": {},
     "output_type": "execute_result"
    }
   ],
   "source": [
    "type(b)"
   ]
  },
  {
   "cell_type": "code",
   "execution_count": 21,
   "metadata": {},
   "outputs": [
    {
     "data": {
      "text/plain": [
       "dtype('int32')"
      ]
     },
     "execution_count": 21,
     "metadata": {},
     "output_type": "execute_result"
    }
   ],
   "source": [
    "a.dtype"
   ]
  },
  {
   "cell_type": "markdown",
   "metadata": {},
   "source": [
    "# Numpy Dimensions"
   ]
  },
  {
   "cell_type": "code",
   "execution_count": 35,
   "metadata": {},
   "outputs": [],
   "source": [
    "a = np.array([[1,2,3],[4,5,6]])"
   ]
  },
  {
   "cell_type": "code",
   "execution_count": 36,
   "metadata": {},
   "outputs": [
    {
     "data": {
      "text/plain": [
       "2"
      ]
     },
     "execution_count": 36,
     "metadata": {},
     "output_type": "execute_result"
    }
   ],
   "source": [
    "a.ndim\n"
   ]
  },
  {
   "cell_type": "code",
   "execution_count": 37,
   "metadata": {},
   "outputs": [
    {
     "data": {
      "text/plain": [
       "3"
      ]
     },
     "execution_count": 37,
     "metadata": {},
     "output_type": "execute_result"
    }
   ],
   "source": [
    "a[0,2]"
   ]
  },
  {
   "cell_type": "code",
   "execution_count": 39,
   "metadata": {},
   "outputs": [],
   "source": [
    "b = np.array([[1,2,3,4],[2,4,5,9]])"
   ]
  },
  {
   "cell_type": "code",
   "execution_count": 43,
   "metadata": {},
   "outputs": [
    {
     "data": {
      "text/plain": [
       "5"
      ]
     },
     "execution_count": 43,
     "metadata": {},
     "output_type": "execute_result"
    }
   ],
   "source": [
    "b[1,2]"
   ]
  },
  {
   "cell_type": "code",
   "execution_count": 46,
   "metadata": {},
   "outputs": [
    {
     "data": {
      "text/plain": [
       "2"
      ]
     },
     "execution_count": 46,
     "metadata": {},
     "output_type": "execute_result"
    }
   ],
   "source": [
    "b.ndim"
   ]
  },
  {
   "cell_type": "code",
   "execution_count": 47,
   "metadata": {},
   "outputs": [],
   "source": [
    "c = np.array([[[2,2,3],[4,5,6],[0,0,-1]],[[-2,-2,-3],[-4,-5,-6],[0,0,1]]])"
   ]
  },
  {
   "cell_type": "code",
   "execution_count": 48,
   "metadata": {},
   "outputs": [
    {
     "data": {
      "text/plain": [
       "3"
      ]
     },
     "execution_count": 48,
     "metadata": {},
     "output_type": "execute_result"
    }
   ],
   "source": [
    "c.ndim"
   ]
  },
  {
   "cell_type": "code",
   "execution_count": 49,
   "metadata": {},
   "outputs": [
    {
     "data": {
      "text/plain": [
       "-3"
      ]
     },
     "execution_count": 49,
     "metadata": {},
     "output_type": "execute_result"
    }
   ],
   "source": [
    "c[1,0,2]"
   ]
  },
  {
   "cell_type": "code",
   "execution_count": 50,
   "metadata": {},
   "outputs": [
    {
     "data": {
      "text/plain": [
       "numpy.ndarray"
      ]
     },
     "execution_count": 50,
     "metadata": {},
     "output_type": "execute_result"
    }
   ],
   "source": [
    "type(c)"
   ]
  },
  {
   "cell_type": "code",
   "execution_count": 51,
   "metadata": {},
   "outputs": [
    {
     "data": {
      "text/plain": [
       "(2, 3, 3)"
      ]
     },
     "execution_count": 51,
     "metadata": {},
     "output_type": "execute_result"
    }
   ],
   "source": [
    "c.shape"
   ]
  },
  {
   "cell_type": "code",
   "execution_count": 52,
   "metadata": {},
   "outputs": [],
   "source": [
    "A = np.array([2])"
   ]
  },
  {
   "cell_type": "code",
   "execution_count": 53,
   "metadata": {},
   "outputs": [
    {
     "data": {
      "text/plain": [
       "1"
      ]
     },
     "execution_count": 53,
     "metadata": {},
     "output_type": "execute_result"
    }
   ],
   "source": [
    "A.ndim"
   ]
  },
  {
   "cell_type": "code",
   "execution_count": 54,
   "metadata": {},
   "outputs": [],
   "source": [
    "B = np.array(3)"
   ]
  },
  {
   "cell_type": "code",
   "execution_count": 55,
   "metadata": {},
   "outputs": [
    {
     "data": {
      "text/plain": [
       "0"
      ]
     },
     "execution_count": 55,
     "metadata": {},
     "output_type": "execute_result"
    }
   ],
   "source": [
    "B.ndim"
   ]
  },
  {
   "cell_type": "code",
   "execution_count": 56,
   "metadata": {},
   "outputs": [
    {
     "data": {
      "text/plain": [
       "18"
      ]
     },
     "execution_count": 56,
     "metadata": {},
     "output_type": "execute_result"
    }
   ],
   "source": [
    "c.size"
   ]
  },
  {
   "cell_type": "code",
   "execution_count": 57,
   "metadata": {},
   "outputs": [
    {
     "data": {
      "text/plain": [
       "72"
      ]
     },
     "execution_count": 57,
     "metadata": {},
     "output_type": "execute_result"
    }
   ],
   "source": [
    "c.nbytes"
   ]
  },
  {
   "cell_type": "code",
   "execution_count": 59,
   "metadata": {},
   "outputs": [],
   "source": [
    "A = np.arange(100)"
   ]
  },
  {
   "cell_type": "code",
   "execution_count": 61,
   "metadata": {},
   "outputs": [
    {
     "name": "stdout",
     "output_type": "stream",
     "text": [
      "[ 0  1  2  3  4  5  6  7  8  9 10 11 12 13 14 15 16 17 18 19 20 21 22 23\n",
      " 24 25 26 27 28 29 30 31 32 33 34 35 36 37 38 39 40 41 42 43 44 45 46 47\n",
      " 48 49 50 51 52 53 54 55 56 57 58 59 60 61 62 63 64 65 66 67 68 69 70 71\n",
      " 72 73 74 75 76 77 78 79 80 81 82 83 84 85 86 87 88 89 90 91 92 93 94 95\n",
      " 96 97 98 99]\n"
     ]
    }
   ],
   "source": [
    "print(A)"
   ]
  },
  {
   "cell_type": "code",
   "execution_count": 63,
   "metadata": {},
   "outputs": [
    {
     "name": "stdout",
     "output_type": "stream",
     "text": [
      "[20 23 26 29 32 35 38 41 44 47 50 53 56 59 62 65 68 71 74 77 80 83 86 89\n",
      " 92 95 98]\n"
     ]
    }
   ],
   "source": [
    "B = np.arange(20,100,3)\n",
    "print(B)"
   ]
  },
  {
   "cell_type": "code",
   "execution_count": 68,
   "metadata": {},
   "outputs": [
    {
     "name": "stdout",
     "output_type": "stream",
     "text": [
      "[3 4 0 5 9 2 7 8 6 1]\n"
     ]
    }
   ],
   "source": [
    "A = np.random.permutation(np.arange(10))\n",
    "print(A)"
   ]
  },
  {
   "cell_type": "code",
   "execution_count": 69,
   "metadata": {},
   "outputs": [
    {
     "data": {
      "text/plain": [
       "<function RandomState.randint>"
      ]
     },
     "execution_count": 69,
     "metadata": {},
     "output_type": "execute_result"
    }
   ],
   "source": [
    "np.random.randint"
   ]
  },
  {
   "cell_type": "code",
   "execution_count": 76,
   "metadata": {},
   "outputs": [],
   "source": [
    "v = np.random.randint(20,30)"
   ]
  },
  {
   "cell_type": "code",
   "execution_count": 77,
   "metadata": {},
   "outputs": [
    {
     "data": {
      "text/plain": [
       "int"
      ]
     },
     "execution_count": 77,
     "metadata": {},
     "output_type": "execute_result"
    }
   ],
   "source": [
    "type(v)"
   ]
  },
  {
   "cell_type": "code",
   "execution_count": 78,
   "metadata": {},
   "outputs": [],
   "source": [
    "A = np.random.rand(1000)"
   ]
  },
  {
   "cell_type": "code",
   "execution_count": 79,
   "metadata": {},
   "outputs": [
    {
     "data": {
      "text/plain": [
       "array([0.69927907, 0.21137906, 0.96076299, 0.64088281, 0.79203832,\n",
       "       0.9376321 , 0.55756263, 0.12070117, 0.73908579, 0.45965215,\n",
       "       0.80888371, 0.4273275 , 0.35890296, 0.57110325, 0.76518243,\n",
       "       0.90500388, 0.97092946, 0.17646214, 0.02913627, 0.57597202,\n",
       "       0.5059786 , 0.03878339, 0.66347569, 0.55880287, 0.05962066,\n",
       "       0.78016472, 0.7484577 , 0.51021609, 0.87621386, 0.05591815,\n",
       "       0.0711335 , 0.25130995, 0.90237408, 0.61569746, 0.55171349,\n",
       "       0.23229676, 0.23341251, 0.33364986, 0.93517908, 0.9416018 ,\n",
       "       0.16210382, 0.50665106, 0.27878898, 0.8943605 , 0.97520677,\n",
       "       0.73591083, 0.3796797 , 0.11310369, 0.16897502, 0.186795  ,\n",
       "       0.98937703, 0.14638133, 0.50647883, 0.72724419, 0.13291823,\n",
       "       0.64915091, 0.30741048, 0.96458317, 0.39769312, 0.35510438,\n",
       "       0.45856913, 0.91212613, 0.25151491, 0.21923436, 0.24187142,\n",
       "       0.28085648, 0.9014769 , 0.60665403, 0.50104102, 0.77544331,\n",
       "       0.05010985, 0.30783114, 0.70724255, 0.76741806, 0.07519024,\n",
       "       0.86385785, 0.19991606, 0.031759  , 0.12190985, 0.90147668,\n",
       "       0.40854751, 0.28786896, 0.54204829, 0.6571466 , 0.12521387,\n",
       "       0.60162267, 0.19139513, 0.50053565, 0.57362558, 0.75668007,\n",
       "       0.50182394, 0.15337451, 0.11310137, 0.81637859, 0.23894106,\n",
       "       0.37718534, 0.18197815, 0.9809015 , 0.67804483, 0.14756866,\n",
       "       0.16264946, 0.0908696 , 0.38251621, 0.28792296, 0.96773003,\n",
       "       0.64378489, 0.96114117, 0.23042118, 0.21049174, 0.17772286,\n",
       "       0.05203519, 0.3812286 , 0.32947822, 0.94999757, 0.0195544 ,\n",
       "       0.80372563, 0.59841942, 0.1010616 , 0.44101821, 0.81257153,\n",
       "       0.6554204 , 0.28572458, 0.33604122, 0.83024106, 0.12832607,\n",
       "       0.68910254, 0.15243959, 0.99009729, 0.90308469, 0.66199042,\n",
       "       0.72429453, 0.78012134, 0.97109626, 0.56556449, 0.97205986,\n",
       "       0.31467982, 0.32066309, 0.94100074, 0.74263315, 0.34188697,\n",
       "       0.49520056, 0.6681702 , 0.10368567, 0.05722422, 0.37515872,\n",
       "       0.13493799, 0.31269005, 0.32488195, 0.18130612, 0.74098395,\n",
       "       0.30102783, 0.49005299, 0.12743098, 0.89991009, 0.99081099,\n",
       "       0.43511836, 0.20863813, 0.35661318, 0.24597726, 0.69740488,\n",
       "       0.45065456, 0.83233799, 0.08209734, 0.77891632, 0.82820906,\n",
       "       0.08508294, 0.68323521, 0.21039523, 0.7688367 , 0.8281148 ,\n",
       "       0.25228491, 0.35826963, 0.62831375, 0.12964136, 0.41675917,\n",
       "       0.09776862, 0.9055071 , 0.12937603, 0.83741732, 0.61733058,\n",
       "       0.05405369, 0.63744157, 0.24115812, 0.77317424, 0.85450715,\n",
       "       0.29374833, 0.83165846, 0.89742179, 0.76922536, 0.12080547,\n",
       "       0.42112933, 0.97669533, 0.13375002, 0.83211028, 0.28972405,\n",
       "       0.45197005, 0.75439975, 0.92814176, 0.46205285, 0.20181801,\n",
       "       0.65591829, 0.10835176, 0.42311601, 0.04477008, 0.59643108,\n",
       "       0.15416668, 0.55438171, 0.30447673, 0.69319907, 0.12598483,\n",
       "       0.40815768, 0.83502648, 0.8960167 , 0.73372178, 0.45995766,\n",
       "       0.06861168, 0.25467305, 0.76827364, 0.7802273 , 0.96148575,\n",
       "       0.55693654, 0.56623739, 0.19160403, 0.28522296, 0.1620817 ,\n",
       "       0.17302858, 0.26493615, 0.13786163, 0.30324511, 0.36526353,\n",
       "       0.37257943, 0.56152198, 0.17951806, 0.02985986, 0.02423536,\n",
       "       0.54616048, 0.26080916, 0.55488666, 0.00530007, 0.43135559,\n",
       "       0.46976864, 0.34733135, 0.62510156, 0.5627947 , 0.46976649,\n",
       "       0.95550625, 0.33898649, 0.51048147, 0.39828644, 0.5432358 ,\n",
       "       0.0894136 , 0.11585848, 0.13461898, 0.12242019, 0.58791437,\n",
       "       0.87731157, 0.86651804, 0.34800151, 0.39038265, 0.83394436,\n",
       "       0.92457575, 0.19768896, 0.40546024, 0.10128147, 0.71387185,\n",
       "       0.50534208, 0.40007679, 0.42398222, 0.2997694 , 0.07152931,\n",
       "       0.96545544, 0.91802717, 0.20257885, 0.35571925, 0.59163301,\n",
       "       0.90112016, 0.13698153, 0.0266485 , 0.3132061 , 0.4084648 ,\n",
       "       0.20411664, 0.54093976, 0.36392963, 0.01547989, 0.47948614,\n",
       "       0.95238554, 0.57808455, 0.76478508, 0.19727602, 0.25581732,\n",
       "       0.34132778, 0.51456052, 0.1680248 , 0.46532417, 0.57686126,\n",
       "       0.8276939 , 0.67973123, 0.05164077, 0.76677016, 0.29695621,\n",
       "       0.92064432, 0.62982602, 0.92053473, 0.26150852, 0.2324576 ,\n",
       "       0.63254926, 0.95147196, 0.81691644, 0.37386631, 0.19234081,\n",
       "       0.61221706, 0.79032211, 0.41538298, 0.78558615, 0.60895237,\n",
       "       0.68212432, 0.31291277, 0.37566735, 0.58177848, 0.66408084,\n",
       "       0.37883543, 0.95395947, 0.72212784, 0.50283315, 0.3906895 ,\n",
       "       0.42743427, 0.91948465, 0.9507135 , 0.83487734, 0.22370528,\n",
       "       0.55339401, 0.48638185, 0.01319772, 0.0187929 , 0.90250791,\n",
       "       0.45718795, 0.20816122, 0.28211519, 0.7258735 , 0.44593257,\n",
       "       0.76975356, 0.48547059, 0.63611139, 0.41989585, 0.77388143,\n",
       "       0.00589365, 0.64004566, 0.48787713, 0.58416117, 0.72619417,\n",
       "       0.13676039, 0.66211515, 0.21693329, 0.69647849, 0.24106593,\n",
       "       0.85511193, 0.38054299, 0.33433664, 0.31936775, 0.32486221,\n",
       "       0.69410088, 0.0012783 , 0.87282239, 0.57612934, 0.28613784,\n",
       "       0.30449879, 0.73989627, 0.29671674, 0.46769885, 0.43150363,\n",
       "       0.32466148, 0.16283421, 0.54631349, 0.41440142, 0.20923862,\n",
       "       0.30287578, 0.25551569, 0.31214883, 0.03835011, 0.90740698,\n",
       "       0.04654501, 0.14445881, 0.09535258, 0.86760277, 0.77514718,\n",
       "       0.95768604, 0.00292497, 0.84589237, 0.37547754, 0.12914231,\n",
       "       0.63375303, 0.64837425, 0.79721226, 0.11297759, 0.05250205,\n",
       "       0.13569324, 0.31429954, 0.01692364, 0.58933623, 0.94573757,\n",
       "       0.24316035, 0.18869775, 0.62480949, 0.96934734, 0.97662674,\n",
       "       0.89329868, 0.84619184, 0.07705993, 0.65494299, 0.67271103,\n",
       "       0.8077961 , 0.81422143, 0.20851118, 0.67487243, 0.28357901,\n",
       "       0.88337282, 0.3753494 , 0.88504872, 0.66405225, 0.10465228,\n",
       "       0.53868076, 0.20030067, 0.24452606, 0.67643828, 0.52336262,\n",
       "       0.69092839, 0.25026587, 0.76452048, 0.94645584, 0.79665162,\n",
       "       0.87881793, 0.08777784, 0.36208072, 0.42672607, 0.04248865,\n",
       "       0.31919214, 0.22319956, 0.31720791, 0.54021631, 0.09621973,\n",
       "       0.10892669, 0.40470451, 0.97402749, 0.41628895, 0.91530326,\n",
       "       0.89564756, 0.57425278, 0.54132811, 0.00711781, 0.0254163 ,\n",
       "       0.7662717 , 0.18300779, 0.03796776, 0.45232177, 0.97821257,\n",
       "       0.38848723, 0.79935464, 0.62060015, 0.48583266, 0.60181433,\n",
       "       0.68457074, 0.56296802, 0.06195059, 0.10339119, 0.96556407,\n",
       "       0.36165977, 0.85417086, 0.99137272, 0.16976416, 0.6328957 ,\n",
       "       0.23937137, 0.13854003, 0.37166628, 0.16802805, 0.04869698,\n",
       "       0.97712977, 0.73438862, 0.12876428, 0.92137495, 0.21929925,\n",
       "       0.93079387, 0.39643373, 0.28718317, 0.56532504, 0.48487619,\n",
       "       0.07535385, 0.24402289, 0.89755072, 0.55033842, 0.40833705,\n",
       "       0.4322354 , 0.69018942, 0.61128245, 0.94094046, 0.99026302,\n",
       "       0.52908807, 0.38127316, 0.7385311 , 0.3601454 , 0.25245233,\n",
       "       0.60949699, 0.33388681, 0.94339534, 0.31678222, 0.52077164,\n",
       "       0.82101805, 0.54007155, 0.64020449, 0.216599  , 0.86471295,\n",
       "       0.1797885 , 0.59287734, 0.22636929, 0.15321095, 0.64356487,\n",
       "       0.25972832, 0.57074931, 0.46929451, 0.77601607, 0.3506721 ,\n",
       "       0.83749049, 0.10937715, 0.99228736, 0.91501826, 0.24590204,\n",
       "       0.89031602, 0.619871  , 0.55975836, 0.14353841, 0.19067606,\n",
       "       0.92990858, 0.41087178, 0.88551488, 0.85069157, 0.87299268,\n",
       "       0.84154359, 0.87449286, 0.32675792, 0.58372101, 0.33782926,\n",
       "       0.61943624, 0.25984782, 0.72413035, 0.10294213, 0.41012098,\n",
       "       0.5228066 , 0.26159506, 0.79702047, 0.74743833, 0.42572459,\n",
       "       0.01806329, 0.78681073, 0.36202558, 0.35192347, 0.14065879,\n",
       "       0.6662852 , 0.35986798, 0.73281888, 0.19825095, 0.42410543,\n",
       "       0.54938492, 0.47119843, 0.9002544 , 0.63951096, 0.85544986,\n",
       "       0.49733581, 0.30402379, 0.47902414, 0.91332083, 0.87345936,\n",
       "       0.27078534, 0.22131427, 0.85820972, 0.43987586, 0.16678967,\n",
       "       0.36318993, 0.15195788, 0.43057268, 0.24551437, 0.38813724,\n",
       "       0.84989019, 0.57410225, 0.8038971 , 0.72510923, 0.56444252,\n",
       "       0.99757016, 0.90988504, 0.69545429, 0.37922706, 0.24200776,\n",
       "       0.40182378, 0.12165446, 0.57499838, 0.94012913, 0.21702139,\n",
       "       0.08353096, 0.9703062 , 0.76186097, 0.56326525, 0.1129701 ,\n",
       "       0.2595421 , 0.18068645, 0.79010518, 0.01276147, 0.227139  ,\n",
       "       0.04979071, 0.71111258, 0.23044102, 0.60496897, 0.38178309,\n",
       "       0.23111892, 0.29337152, 0.98212052, 0.37555123, 0.85514188,\n",
       "       0.70717855, 0.72930975, 0.29636057, 0.29471758, 0.80655146,\n",
       "       0.17214754, 0.71189933, 0.26034639, 0.39014447, 0.85085477,\n",
       "       0.67115099, 0.15759446, 0.6328797 , 0.90459403, 0.27004914,\n",
       "       0.98685811, 0.80608173, 0.47617197, 0.9003078 , 0.4460366 ,\n",
       "       0.08993864, 0.62806133, 0.09159078, 0.77545691, 0.38067666,\n",
       "       0.88152762, 0.28039023, 0.14029587, 0.89190631, 0.51115739,\n",
       "       0.62632207, 0.81445226, 0.84026937, 0.52847156, 0.57014209,\n",
       "       0.83817259, 0.79175182, 0.15002713, 0.39684825, 0.719794  ,\n",
       "       0.93510442, 0.39599841, 0.08521439, 0.88388202, 0.92693811,\n",
       "       0.14949735, 0.76812124, 0.79042054, 0.26634536, 0.82215666,\n",
       "       0.79123185, 0.31458108, 0.38488826, 0.06934038, 0.78623485,\n",
       "       0.17556338, 0.54542353, 0.63570958, 0.36826552, 0.95252829,\n",
       "       0.96468337, 0.90520435, 0.05275207, 0.38310884, 0.83547476,\n",
       "       0.63020006, 0.37612921, 0.69725602, 0.9654951 , 0.11878368,\n",
       "       0.52601055, 0.65376618, 0.13872736, 0.6330666 , 0.63132631,\n",
       "       0.41485904, 0.43013137, 0.59471931, 0.25335164, 0.30183769,\n",
       "       0.45933995, 0.29583608, 0.33574036, 0.78483209, 0.35049289,\n",
       "       0.41950853, 0.42568561, 0.08448208, 0.98956419, 0.96722632,\n",
       "       0.00981412, 0.51582253, 0.59509344, 0.02468263, 0.48469971,\n",
       "       0.48592812, 0.06583876, 0.8001085 , 0.67818482, 0.63701423,\n",
       "       0.60563275, 0.12211792, 0.96438787, 0.768659  , 0.82857967,\n",
       "       0.7733755 , 0.13692645, 0.69837218, 0.91642743, 0.02257135,\n",
       "       0.61547785, 0.40302855, 0.67819024, 0.9550818 , 0.39248509,\n",
       "       0.37427995, 0.74797271, 0.68365042, 0.18025734, 0.92286559,\n",
       "       0.59833617, 0.81969934, 0.17009352, 0.044217  , 0.12302172,\n",
       "       0.14387618, 0.59226722, 0.61535397, 0.92521736, 0.24478464,\n",
       "       0.26870325, 0.9766488 , 0.68316943, 0.34849918, 0.54732628,\n",
       "       0.94081712, 0.75776132, 0.13601948, 0.27202544, 0.44465453,\n",
       "       0.77118225, 0.87778787, 0.39769198, 0.16065641, 0.31915421,\n",
       "       0.70579866, 0.86154517, 0.52701654, 0.03278613, 0.53131887,\n",
       "       0.11112982, 0.92642231, 0.06732067, 0.70536058, 0.35804264,\n",
       "       0.19013859, 0.03906949, 0.91500069, 0.78273961, 0.22697033,\n",
       "       0.06866046, 0.29905639, 0.3307908 , 0.62243454, 0.50206049,\n",
       "       0.82281278, 0.81444719, 0.1211056 , 0.2080781 , 0.88525851,\n",
       "       0.81450178, 0.85149096, 0.49127133, 0.42835377, 0.94501479,\n",
       "       0.72850708, 0.53983373, 0.70621577, 0.52304202, 0.08281666,\n",
       "       0.0084933 , 0.85860525, 0.6514997 , 0.31826156, 0.73895154,\n",
       "       0.05456621, 0.80605192, 0.40096853, 0.06468829, 0.97382628,\n",
       "       0.37889718, 0.13225626, 0.77164497, 0.48152146, 0.88948622,\n",
       "       0.67818625, 0.39443973, 0.3364241 , 0.12513074, 0.84379886,\n",
       "       0.07034731, 0.27170386, 0.07837648, 0.17409497, 0.76646545,\n",
       "       0.56684396, 0.9526218 , 0.89334844, 0.65386802, 0.02897832,\n",
       "       0.39035206, 0.32651308, 0.69675522, 0.91006253, 0.28140271,\n",
       "       0.22650165, 0.95961699, 0.79555623, 0.90679769, 0.26632502,\n",
       "       0.0952807 , 0.31230642, 0.14799009, 0.27643693, 0.64544699,\n",
       "       0.9262606 , 0.40678127, 0.86970931, 0.14602951, 0.92947497,\n",
       "       0.45153357, 0.96291924, 0.18624131, 0.57585386, 0.72746415,\n",
       "       0.47770906, 0.52658146, 0.86024425, 0.90902572, 0.65481274,\n",
       "       0.98526104, 0.28707218, 0.88032361, 0.74804463, 0.87938756,\n",
       "       0.29738102, 0.13536423, 0.52194726, 0.62032707, 0.84725036,\n",
       "       0.35952484, 0.73594113, 0.24383966, 0.70396898, 0.24991388,\n",
       "       0.93654431, 0.19985276, 0.02634346, 0.28915286, 0.94955086,\n",
       "       0.4378102 , 0.06871869, 0.3290352 , 0.86448532, 0.27025824,\n",
       "       0.74818179, 0.7158463 , 0.66375012, 0.72566438, 0.32151622,\n",
       "       0.74907744, 0.53241937, 0.58586961, 0.76963511, 0.18925367,\n",
       "       0.56346987, 0.31472558, 0.07176083, 0.36007556, 0.39198558,\n",
       "       0.77175359, 0.63471822, 0.66005846, 0.09202385, 0.42474721,\n",
       "       0.02091906, 0.86047631, 0.99654644, 0.8281954 , 0.23928724,\n",
       "       0.11238753, 0.32682534, 0.11715111, 0.38133954, 0.57999521,\n",
       "       0.97356903, 0.6295406 , 0.31697107, 0.50634643, 0.18058687,\n",
       "       0.29469512, 0.40140827, 0.19111508, 0.08306721, 0.72037724,\n",
       "       0.18366085, 0.21265604, 0.85659727, 0.72806332, 0.18851098,\n",
       "       0.09194805, 0.28884723, 0.21262737, 0.92982785, 0.91461219,\n",
       "       0.68647164, 0.15458267, 0.14931326, 0.22019001, 0.58125541,\n",
       "       0.45921275, 0.04717803, 0.10605675, 0.06948712, 0.31613575,\n",
       "       0.64203194, 0.63269436, 0.14166386, 0.85544825, 0.03582548,\n",
       "       0.11338039, 0.951145  , 0.46311378, 0.18929398, 0.89233458,\n",
       "       0.98061043, 0.42365071, 0.07042512, 0.6726273 , 0.40977444,\n",
       "       0.54377838, 0.66520916, 0.93325974, 0.99041627, 0.84423825,\n",
       "       0.37120714, 0.12496932, 0.70189523, 0.22335578, 0.91888368,\n",
       "       0.68932566, 0.0495227 , 0.07750399, 0.33537875, 0.73516085,\n",
       "       0.03734216, 0.92992683, 0.47223679, 0.38742398, 0.61359289,\n",
       "       0.14250355, 0.77174109, 0.96632651, 0.53123278, 0.69595516,\n",
       "       0.53747654, 0.35499406, 0.54865577, 0.05990036, 0.39755013,\n",
       "       0.16513141, 0.42536273, 0.93255232, 0.42205398, 0.40615115,\n",
       "       0.91474041, 0.66106594, 0.91365265, 0.68826333, 0.71501539,\n",
       "       0.91897767, 0.71053763, 0.87070688, 0.77521549, 0.33178499])"
      ]
     },
     "execution_count": 79,
     "metadata": {},
     "output_type": "execute_result"
    }
   ],
   "source": [
    "A"
   ]
  },
  {
   "cell_type": "code",
   "execution_count": 80,
   "metadata": {},
   "outputs": [
    {
     "name": "stderr",
     "output_type": "stream",
     "text": [
      "Matplotlib is building the font cache; this may take a moment.\n"
     ]
    }
   ],
   "source": [
    "import matplotlib.pyplot as plt"
   ]
  },
  {
   "cell_type": "code",
   "execution_count": 81,
   "metadata": {},
   "outputs": [
    {
     "data": {
      "text/plain": [
       "(array([ 88., 118., 102., 115.,  84.,  91.,  98.,  95.,  93., 116.]),\n",
       " array([0.0012783 , 0.10090749, 0.20053667, 0.30016586, 0.39979505,\n",
       "        0.49942423, 0.59905342, 0.6986826 , 0.79831179, 0.89794098,\n",
       "        0.99757016]),\n",
       " <BarContainer object of 10 artists>)"
      ]
     },
     "execution_count": 81,
     "metadata": {},
     "output_type": "execute_result"
    },
    {
     "data": {
      "image/png": "[encoded data removed]",
      "text/plain": [
       "<Figure size 432x288 with 1 Axes>"
      ]
     },
     "metadata": {
      "needs_background": "light"
     },
     "output_type": "display_data"
    }
   ],
   "source": [
    "plt.hist(A)"
   ]
  },
  {
   "cell_type": "code",
   "execution_count": 82,
   "metadata": {},
   "outputs": [
    {
     "data": {
      "text/plain": [
       "(array([ 7.,  8.,  9.,  8.,  9., 10., 11.,  8., 11.,  7., 10., 12., 16.,\n",
       "        16., 12.,  8., 11., 10., 12., 11., 10.,  9.,  9.,  8., 14., 11.,\n",
       "        10.,  5., 15., 11.,  9., 17., 10., 11.,  5., 12.,  9., 16., 12.,\n",
       "        14., 13.,  9., 15.,  7.,  5.,  8.,  7.,  8.,  8.,  4., 10.,  5.,\n",
       "        10.,  5., 13.,  9., 11., 12.,  7.,  9.,  6.,  8., 10., 15.,  9.,\n",
       "         9., 11.,  9.,  8., 13.,  8.,  6., 13.,  8., 10.,  4., 10., 17.,\n",
       "         9., 10.,  8.,  8.,  7., 12.,  8., 11., 10.,  9.,  9., 11., 15.,\n",
       "        12., 13., 12.,  9., 12., 13., 14.,  6., 10.]),\n",
       " array([0.0012783 , 0.01124122, 0.02120414, 0.03116706, 0.04112998,\n",
       "        0.05109289, 0.06105581, 0.07101873, 0.08098165, 0.09094457,\n",
       "        0.10090749, 0.11087041, 0.12083332, 0.13079624, 0.14075916,\n",
       "        0.15072208, 0.160685  , 0.17064792, 0.18061084, 0.19057376,\n",
       "        0.20053667, 0.21049959, 0.22046251, 0.23042543, 0.24038835,\n",
       "        0.25035127, 0.26031419, 0.2702771 , 0.28024002, 0.29020294,\n",
       "        0.30016586, 0.31012878, 0.3200917 , 0.33005462, 0.34001753,\n",
       "        0.34998045, 0.35994337, 0.36990629, 0.37986921, 0.38983213,\n",
       "        0.39979505, 0.40975796, 0.41972088, 0.4296838 , 0.43964672,\n",
       "        0.44960964, 0.45957256, 0.46953548, 0.47949839, 0.48946131,\n",
       "        0.49942423, 0.50938715, 0.51935007, 0.52931299, 0.53927591,\n",
       "        0.54923883, 0.55920174, 0.56916466, 0.57912758, 0.5890905 ,\n",
       "        0.59905342, 0.60901634, 0.61897926, 0.62894217, 0.63890509,\n",
       "        0.64886801, 0.65883093, 0.66879385, 0.67875677, 0.68871969,\n",
       "        0.6986826 , 0.70864552, 0.71860844, 0.72857136, 0.73853428,\n",
       "        0.7484972 , 0.75846012, 0.76842303, 0.77838595, 0.78834887,\n",
       "        0.79831179, 0.80827471, 0.81823763, 0.82820055, 0.83816346,\n",
       "        0.84812638, 0.8580893 , 0.86805222, 0.87801514, 0.88797806,\n",
       "        0.89794098, 0.9079039 , 0.91786681, 0.92782973, 0.93779265,\n",
       "        0.94775557, 0.95771849, 0.96768141, 0.97764433, 0.98760724,\n",
       "        0.99757016]),\n",
       " <BarContainer object of 100 artists>)"
      ]
     },
     "execution_count": 82,
     "metadata": {},
     "output_type": "execute_result"
    },
    {
     "data": {
      "image/png": "[encoded data removed]",
      "text/plain": [
       "<Figure size 432x288 with 1 Axes>"
      ]
     },
     "metadata": {
      "needs_background": "light"
     },
     "output_type": "display_data"
    }
   ],
   "source": [
    "plt.hist(A, bins=100)"
   ]
  },
  {
   "cell_type": "code",
   "execution_count": 83,
   "metadata": {},
   "outputs": [
    {
     "data": {
      "text/plain": [
       "(array([2.000e+00, 1.000e+00, 1.000e+00, 0.000e+00, 0.000e+00, 1.000e+00,\n",
       "        0.000e+00, 1.000e+00, 2.000e+00, 2.000e+00, 1.000e+00, 1.000e+00,\n",
       "        3.000e+00, 1.000e+00, 1.000e+00, 1.000e+00, 2.000e+00, 2.000e+00,\n",
       "        5.000e+00, 7.000e+00, 6.000e+00, 6.000e+00, 1.300e+01, 1.700e+01,\n",
       "        1.000e+01, 1.100e+01, 1.100e+01, 1.200e+01, 1.900e+01, 8.000e+00,\n",
       "        2.400e+01, 3.000e+01, 2.500e+01, 2.600e+01, 3.400e+01, 4.000e+01,\n",
       "        4.200e+01, 4.500e+01, 6.900e+01, 8.500e+01, 5.700e+01, 8.200e+01,\n",
       "        1.120e+02, 1.280e+02, 1.250e+02, 1.200e+02, 1.450e+02, 1.610e+02,\n",
       "        1.570e+02, 1.670e+02, 2.050e+02, 2.130e+02, 2.420e+02, 2.700e+02,\n",
       "        3.010e+02, 3.150e+02, 3.570e+02, 3.470e+02, 3.880e+02, 4.090e+02,\n",
       "        4.180e+02, 4.810e+02, 4.750e+02, 5.210e+02, 5.920e+02, 5.840e+02,\n",
       "        6.140e+02, 7.030e+02, 7.440e+02, 7.370e+02, 8.750e+02, 8.570e+02,\n",
       "        9.260e+02, 8.970e+02, 9.950e+02, 1.055e+03, 1.082e+03, 1.119e+03,\n",
       "        1.095e+03, 1.173e+03, 1.197e+03, 1.246e+03, 1.335e+03, 1.349e+03,\n",
       "        1.430e+03, 1.403e+03, 1.484e+03, 1.514e+03, 1.603e+03, 1.499e+03,\n",
       "        1.634e+03, 1.624e+03, 1.687e+03, 1.651e+03, 1.650e+03, 1.642e+03,\n",
       "        1.601e+03, 1.628e+03, 1.650e+03, 1.647e+03, 1.797e+03, 1.694e+03,\n",
       "        1.628e+03, 1.585e+03, 1.627e+03, 1.626e+03, 1.596e+03, 1.606e+03,\n",
       "        1.554e+03, 1.529e+03, 1.520e+03, 1.522e+03, 1.489e+03, 1.390e+03,\n",
       "        1.388e+03, 1.394e+03, 1.301e+03, 1.221e+03, 1.196e+03, 1.165e+03,\n",
       "        1.094e+03, 1.053e+03, 1.062e+03, 9.700e+02, 9.360e+02, 9.050e+02,\n",
       "        8.390e+02, 8.360e+02, 7.970e+02, 7.280e+02, 6.950e+02, 6.380e+02,\n",
       "        6.590e+02, 5.390e+02, 5.470e+02, 5.200e+02, 4.960e+02, 4.620e+02,\n",
       "        4.220e+02, 4.050e+02, 3.930e+02, 3.450e+02, 3.020e+02, 2.820e+02,\n",
       "        2.750e+02, 2.520e+02, 2.130e+02, 2.080e+02, 1.680e+02, 1.890e+02,\n",
       "        1.850e+02, 1.460e+02, 1.300e+02, 1.240e+02, 1.200e+02, 9.900e+01,\n",
       "        9.700e+01, 7.000e+01, 7.900e+01, 7.500e+01, 6.500e+01, 4.500e+01,\n",
       "        4.700e+01, 4.100e+01, 4.300e+01, 3.700e+01, 2.700e+01, 2.700e+01,\n",
       "        1.700e+01, 2.800e+01, 1.700e+01, 1.900e+01, 1.100e+01, 2.000e+01,\n",
       "        8.000e+00, 1.000e+01, 1.000e+01, 1.100e+01, 3.000e+00, 3.000e+00,\n",
       "        3.000e+00, 3.000e+00, 5.000e+00, 8.000e+00, 5.000e+00, 3.000e+00,\n",
       "        2.000e+00, 1.000e+00, 1.000e+00, 3.000e+00, 2.000e+00, 1.000e+00,\n",
       "        1.000e+00, 0.000e+00, 1.000e+00, 1.000e+00, 0.000e+00, 1.000e+00,\n",
       "        0.000e+00, 2.000e+00]),\n",
       " array([-4.19456856, -4.15232977, -4.11009099, -4.0678522 , -4.02561341,\n",
       "        -3.98337463, -3.94113584, -3.89889705, -3.85665826, -3.81441948,\n",
       "        -3.77218069, -3.7299419 , -3.68770311, -3.64546433, -3.60322554,\n",
       "        -3.56098675, -3.51874796, -3.47650918, -3.43427039, -3.3920316 ,\n",
       "        -3.34979281, -3.30755403, -3.26531524, -3.22307645, -3.18083766,\n",
       "        -3.13859888, -3.09636009, -3.0541213 , -3.01188251, -2.96964373,\n",
       "        -2.92740494, -2.88516615, -2.84292736, -2.80068858, -2.75844979,\n",
       "        -2.716211  , -2.67397221, -2.63173343, -2.58949464, -2.54725585,\n",
       "        -2.50501707, -2.46277828, -2.42053949, -2.3783007 , -2.33606192,\n",
       "        -2.29382313, -2.25158434, -2.20934555, -2.16710677, -2.12486798,\n",
       "        -2.08262919, -2.0403904 , -1.99815162, -1.95591283, -1.91367404,\n",
       "        -1.87143525, -1.82919647, -1.78695768, -1.74471889, -1.7024801 ,\n",
       "        -1.66024132, -1.61800253, -1.57576374, -1.53352495, -1.49128617,\n",
       "        -1.44904738, -1.40680859, -1.3645698 , -1.32233102, -1.28009223,\n",
       "        -1.23785344, -1.19561465, -1.15337587, -1.11113708, -1.06889829,\n",
       "        -1.02665951, -0.98442072, -0.94218193, -0.89994314, -0.85770436,\n",
       "        -0.81546557, -0.77322678, -0.73098799, -0.68874921, -0.64651042,\n",
       "        -0.60427163, -0.56203284, -0.51979406, -0.47755527, -0.43531648,\n",
       "        -0.39307769, -0.35083891, -0.30860012, -0.26636133, -0.22412254,\n",
       "        -0.18188376, -0.13964497, -0.09740618, -0.05516739, -0.01292861,\n",
       "         0.02931018,  0.07154897,  0.11378776,  0.15602654,  0.19826533,\n",
       "         0.24050412,  0.28274291,  0.32498169,  0.36722048,  0.40945927,\n",
       "         0.45169806,  0.49393684,  0.53617563,  0.57841442,  0.6206532 ,\n",
       "         0.66289199,  0.70513078,  0.74736957,  0.78960835,  0.83184714,\n",
       "         0.87408593,  0.91632472,  0.9585635 ,  1.00080229,  1.04304108,\n",
       "         1.08527987,  1.12751865,  1.16975744,  1.21199623,  1.25423502,\n",
       "         1.2964738 ,  1.33871259,  1.38095138,  1.42319017,  1.46542895,\n",
       "         1.50766774,  1.54990653,  1.59214532,  1.6343841 ,  1.67662289,\n",
       "         1.71886168,  1.76110047,  1.80333925,  1.84557804,  1.88781683,\n",
       "         1.93005562,  1.9722944 ,  2.01453319,  2.05677198,  2.09901076,\n",
       "         2.14124955,  2.18348834,  2.22572713,  2.26796591,  2.3102047 ,\n",
       "         2.35244349,  2.39468228,  2.43692106,  2.47915985,  2.52139864,\n",
       "         2.56363743,  2.60587621,  2.648115  ,  2.69035379,  2.73259258,\n",
       "         2.77483136,  2.81707015,  2.85930894,  2.90154773,  2.94378651,\n",
       "         2.9860253 ,  3.02826409,  3.07050288,  3.11274166,  3.15498045,\n",
       "         3.19721924,  3.23945803,  3.28169681,  3.3239356 ,  3.36617439,\n",
       "         3.40841318,  3.45065196,  3.49289075,  3.53512954,  3.57736832,\n",
       "         3.61960711,  3.6618459 ,  3.70408469,  3.74632347,  3.78856226,\n",
       "         3.83080105,  3.87303984,  3.91527862,  3.95751741,  3.9997562 ,\n",
       "         4.04199499,  4.08423377,  4.12647256,  4.16871135,  4.21095014,\n",
       "         4.25318892]),\n",
       " <BarContainer object of 200 artists>)"
      ]
     },
     "execution_count": 83,
     "metadata": {},
     "output_type": "execute_result"
    },
    {
     "data": {
      "image/png": "[encoded data removed]",
      "text/plain": [
       "<Figure size 432x288 with 1 Axes>"
      ]
     },
     "metadata": {
      "needs_background": "light"
     },
     "output_type": "display_data"
    }
   ],
   "source": [
    "B = np.random.randn(100000)\n",
    "plt.hist(B, bins=200)"
   ]
  },
  {
   "cell_type": "code",
   "execution_count": 84,
   "metadata": {},
   "outputs": [],
   "source": [
    "C = np.random.rand(2,3)"
   ]
  },
  {
   "cell_type": "code",
   "execution_count": 85,
   "metadata": {},
   "outputs": [
    {
     "data": {
      "text/plain": [
       "array([[0.08439957, 0.49772699, 0.56794964],\n",
       "       [0.86142791, 0.98915653, 0.49952412]])"
      ]
     },
     "execution_count": 85,
     "metadata": {},
     "output_type": "execute_result"
    }
   ],
   "source": [
    "C"
   ]
  },
  {
   "cell_type": "code",
   "execution_count": 86,
   "metadata": {},
   "outputs": [
    {
     "data": {
      "text/plain": [
       "2"
      ]
     },
     "execution_count": 86,
     "metadata": {},
     "output_type": "execute_result"
    }
   ],
   "source": [
    "C.ndim"
   ]
  },
  {
   "cell_type": "code",
   "execution_count": 87,
   "metadata": {},
   "outputs": [],
   "source": [
    "C = np.random.rand(2,3,4,2)"
   ]
  },
  {
   "cell_type": "code",
   "execution_count": 88,
   "metadata": {},
   "outputs": [
    {
     "data": {
      "text/plain": [
       "4"
      ]
     },
     "execution_count": 88,
     "metadata": {},
     "output_type": "execute_result"
    }
   ],
   "source": [
    "C.ndim"
   ]
  },
  {
   "cell_type": "code",
   "execution_count": 89,
   "metadata": {},
   "outputs": [],
   "source": [
    "D = np.arange(100).reshape(4,25)"
   ]
  },
  {
   "cell_type": "code",
   "execution_count": 90,
   "metadata": {},
   "outputs": [
    {
     "data": {
      "text/plain": [
       "array([[ 0,  1,  2,  3,  4,  5,  6,  7,  8,  9, 10, 11, 12, 13, 14, 15,\n",
       "        16, 17, 18, 19, 20, 21, 22, 23, 24],\n",
       "       [25, 26, 27, 28, 29, 30, 31, 32, 33, 34, 35, 36, 37, 38, 39, 40,\n",
       "        41, 42, 43, 44, 45, 46, 47, 48, 49],\n",
       "       [50, 51, 52, 53, 54, 55, 56, 57, 58, 59, 60, 61, 62, 63, 64, 65,\n",
       "        66, 67, 68, 69, 70, 71, 72, 73, 74],\n",
       "       [75, 76, 77, 78, 79, 80, 81, 82, 83, 84, 85, 86, 87, 88, 89, 90,\n",
       "        91, 92, 93, 94, 95, 96, 97, 98, 99]])"
      ]
     },
     "execution_count": 90,
     "metadata": {},
     "output_type": "execute_result"
    }
   ],
   "source": [
    "D"
   ]
  },
  {
   "cell_type": "code",
   "execution_count": 91,
   "metadata": {},
   "outputs": [
    {
     "data": {
      "text/plain": [
       "(4, 25)"
      ]
     },
     "execution_count": 91,
     "metadata": {},
     "output_type": "execute_result"
    }
   ],
   "source": [
    "D.shape"
   ]
  },
  {
   "cell_type": "code",
   "execution_count": 100,
   "metadata": {},
   "outputs": [],
   "source": [
    "D = np.arange(100).reshape(2,5,10)"
   ]
  },
  {
   "cell_type": "code",
   "execution_count": 101,
   "metadata": {},
   "outputs": [
    {
     "data": {
      "text/plain": [
       "(2, 5, 10)"
      ]
     },
     "execution_count": 101,
     "metadata": {},
     "output_type": "execute_result"
    }
   ],
   "source": [
    "D.shape"
   ]
  },
  {
   "cell_type": "code",
   "execution_count": 102,
   "metadata": {},
   "outputs": [
    {
     "data": {
      "text/plain": [
       "array([[[ 0,  1,  2,  3,  4,  5,  6,  7,  8,  9],\n",
       "        [10, 11, 12, 13, 14, 15, 16, 17, 18, 19],\n",
       "        [20, 21, 22, 23, 24, 25, 26, 27, 28, 29],\n",
       "        [30, 31, 32, 33, 34, 35, 36, 37, 38, 39],\n",
       "        [40, 41, 42, 43, 44, 45, 46, 47, 48, 49]],\n",
       "\n",
       "       [[50, 51, 52, 53, 54, 55, 56, 57, 58, 59],\n",
       "        [60, 61, 62, 63, 64, 65, 66, 67, 68, 69],\n",
       "        [70, 71, 72, 73, 74, 75, 76, 77, 78, 79],\n",
       "        [80, 81, 82, 83, 84, 85, 86, 87, 88, 89],\n",
       "        [90, 91, 92, 93, 94, 95, 96, 97, 98, 99]]])"
      ]
     },
     "execution_count": 102,
     "metadata": {},
     "output_type": "execute_result"
    }
   ],
   "source": [
    "D"
   ]
  },
  {
   "cell_type": "markdown",
   "metadata": {},
   "source": [
    "# Numpy (Slicing)"
   ]
  },
  {
   "cell_type": "code",
   "execution_count": 103,
   "metadata": {},
   "outputs": [],
   "source": [
    "A = np.arange(100)"
   ]
  },
  {
   "cell_type": "code",
   "execution_count": 104,
   "metadata": {},
   "outputs": [
    {
     "name": "stdout",
     "output_type": "stream",
     "text": [
      "[3 4 5 6 7 8 9]\n"
     ]
    }
   ],
   "source": [
    "b = A[3:10]\n",
    "print(b)"
   ]
  },
  {
   "cell_type": "code",
   "execution_count": 105,
   "metadata": {},
   "outputs": [],
   "source": [
    "b[0] = -1200"
   ]
  },
  {
   "cell_type": "code",
   "execution_count": 106,
   "metadata": {},
   "outputs": [
    {
     "data": {
      "text/plain": [
       "array([-1200,     4,     5,     6,     7,     8,     9])"
      ]
     },
     "execution_count": 106,
     "metadata": {},
     "output_type": "execute_result"
    }
   ],
   "source": [
    "b"
   ]
  },
  {
   "cell_type": "code",
   "execution_count": 107,
   "metadata": {},
   "outputs": [
    {
     "data": {
      "text/plain": [
       "array([    0,     1,     2, -1200,     4,     5,     6,     7,     8,\n",
       "           9,    10,    11,    12,    13,    14,    15,    16,    17,\n",
       "          18,    19,    20,    21,    22,    23,    24,    25,    26,\n",
       "          27,    28,    29,    30,    31,    32,    33,    34,    35,\n",
       "          36,    37,    38,    39,    40,    41,    42,    43,    44,\n",
       "          45,    46,    47,    48,    49,    50,    51,    52,    53,\n",
       "          54,    55,    56,    57,    58,    59,    60,    61,    62,\n",
       "          63,    64,    65,    66,    67,    68,    69,    70,    71,\n",
       "          72,    73,    74,    75,    76,    77,    78,    79,    80,\n",
       "          81,    82,    83,    84,    85,    86,    87,    88,    89,\n",
       "          90,    91,    92,    93,    94,    95,    96,    97,    98,\n",
       "          99])"
      ]
     },
     "execution_count": 107,
     "metadata": {},
     "output_type": "execute_result"
    }
   ],
   "source": [
    "A"
   ]
  },
  {
   "cell_type": "code",
   "execution_count": 108,
   "metadata": {},
   "outputs": [],
   "source": [
    "b = A[3:10].copy()"
   ]
  },
  {
   "cell_type": "code",
   "execution_count": 109,
   "metadata": {},
   "outputs": [
    {
     "data": {
      "text/plain": [
       "array([ 0,  5, 10, 15, 20, 25, 30, 35, 40, 45, 50, 55, 60, 65, 70, 75, 80,\n",
       "       85, 90, 95])"
      ]
     },
     "execution_count": 109,
     "metadata": {},
     "output_type": "execute_result"
    }
   ],
   "source": [
    "A[::5]"
   ]
  },
  {
   "cell_type": "code",
   "execution_count": 110,
   "metadata": {},
   "outputs": [
    {
     "data": {
      "text/plain": [
       "array([99, 94, 89, 84, 79, 74, 69, 64, 59, 54, 49, 44, 39, 34, 29, 24, 19,\n",
       "       14,  9,  4])"
      ]
     },
     "execution_count": 110,
     "metadata": {},
     "output_type": "execute_result"
    }
   ],
   "source": [
    "A[::-5]"
   ]
  },
  {
   "cell_type": "code",
   "execution_count": 111,
   "metadata": {},
   "outputs": [
    {
     "data": {
      "text/plain": [
       "array([   99,    98,    97,    96,    95,    94,    93,    92,    91,\n",
       "          90,    89,    88,    87,    86,    85,    84,    83,    82,\n",
       "          81,    80,    79,    78,    77,    76,    75,    74,    73,\n",
       "          72,    71,    70,    69,    68,    67,    66,    65,    64,\n",
       "          63,    62,    61,    60,    59,    58,    57,    56,    55,\n",
       "          54,    53,    52,    51,    50,    49,    48,    47,    46,\n",
       "          45,    44,    43,    42,    41,    40,    39,    38,    37,\n",
       "          36,    35,    34,    33,    32,    31,    30,    29,    28,\n",
       "          27,    26,    25,    24,    23,    22,    21,    20,    19,\n",
       "          18,    17,    16,    15,    14,    13,    12,    11,    10,\n",
       "           9,     8,     7,     6,     5,     4, -1200,     2,     1,\n",
       "           0])"
      ]
     },
     "execution_count": 111,
     "metadata": {},
     "output_type": "execute_result"
    }
   ],
   "source": [
    "A[::-1]"
   ]
  },
  {
   "cell_type": "code",
   "execution_count": 112,
   "metadata": {},
   "outputs": [
    {
     "data": {
      "text/plain": [
       "array([    0,     1,     2, -1200,     4,     5,     6,     7,     8,\n",
       "           9,    10,    11,    12,    13,    14,    15,    16,    17,\n",
       "          18,    19,    20,    21,    22,    23,    24,    25,    26,\n",
       "          27,    28,    29,    30,    31,    32,    33,    34,    35,\n",
       "          36,    37,    38,    39,    40,    41,    42,    43,    44,\n",
       "          45,    46,    47,    48,    49,    50,    51,    52,    53,\n",
       "          54,    55,    56,    57,    58,    59,    60,    61,    62,\n",
       "          63,    64,    65,    66,    67,    68,    69,    70,    71,\n",
       "          72,    73,    74,    75,    76,    77,    78,    79,    80,\n",
       "          81,    82,    83,    84,    85,    86,    87,    88,    89,\n",
       "          90,    91,    92,    93,    94,    95,    96,    97,    98,\n",
       "          99])"
      ]
     },
     "execution_count": 112,
     "metadata": {},
     "output_type": "execute_result"
    }
   ],
   "source": [
    "A"
   ]
  },
  {
   "cell_type": "code",
   "execution_count": 115,
   "metadata": {},
   "outputs": [],
   "source": [
    "idx = np.argwhere(A==-1200)[0][0]"
   ]
  },
  {
   "cell_type": "code",
   "execution_count": 116,
   "metadata": {},
   "outputs": [
    {
     "data": {
      "text/plain": [
       "3"
      ]
     },
     "execution_count": 116,
     "metadata": {},
     "output_type": "execute_result"
    }
   ],
   "source": [
    "idx"
   ]
  },
  {
   "cell_type": "code",
   "execution_count": 117,
   "metadata": {},
   "outputs": [],
   "source": [
    "A[idx] = 3"
   ]
  },
  {
   "cell_type": "code",
   "execution_count": 119,
   "metadata": {},
   "outputs": [
    {
     "data": {
      "text/plain": [
       "array([ 0,  1,  2,  3,  4,  5,  6,  7,  8,  9, 10, 11, 12, 13, 14, 15, 16,\n",
       "       17, 18, 19, 20, 21, 22, 23, 24, 25, 26, 27, 28, 29, 30, 31, 32, 33,\n",
       "       34, 35, 36, 37, 38, 39, 40, 41, 42, 43, 44, 45, 46, 47, 48, 49, 50,\n",
       "       51, 52, 53, 54, 55, 56, 57, 58, 59, 60, 61, 62, 63, 64, 65, 66, 67,\n",
       "       68, 69, 70, 71, 72, 73, 74, 75, 76, 77, 78, 79, 80, 81, 82, 83, 84,\n",
       "       85, 86, 87, 88, 89, 90, 91, 92, 93, 94, 95, 96, 97, 98, 99])"
      ]
     },
     "execution_count": 119,
     "metadata": {},
     "output_type": "execute_result"
    }
   ],
   "source": [
    "A"
   ]
  },
  {
   "cell_type": "code",
   "execution_count": 120,
   "metadata": {},
   "outputs": [],
   "source": [
    "A = np.round(10*np.random.rand(5,4))"
   ]
  },
  {
   "cell_type": "code",
   "execution_count": 121,
   "metadata": {},
   "outputs": [
    {
     "data": {
      "text/plain": [
       "array([[ 7.,  2., 10.,  1.],\n",
       "       [ 2.,  5.,  8.,  8.],\n",
       "       [ 3.,  4.,  5.,  4.],\n",
       "       [ 3.,  8.,  1.,  3.],\n",
       "       [ 6., 10.,  5.,  9.]])"
      ]
     },
     "execution_count": 121,
     "metadata": {},
     "output_type": "execute_result"
    }
   ],
   "source": [
    "A"
   ]
  },
  {
   "cell_type": "code",
   "execution_count": 122,
   "metadata": {},
   "outputs": [
    {
     "data": {
      "text/plain": [
       "8.0"
      ]
     },
     "execution_count": 122,
     "metadata": {},
     "output_type": "execute_result"
    }
   ],
   "source": [
    "A[1,2]"
   ]
  },
  {
   "cell_type": "code",
   "execution_count": 123,
   "metadata": {},
   "outputs": [
    {
     "data": {
      "text/plain": [
       "array([2., 5., 8., 8.])"
      ]
     },
     "execution_count": 123,
     "metadata": {},
     "output_type": "execute_result"
    }
   ],
   "source": [
    "A[1,:]"
   ]
  },
  {
   "cell_type": "code",
   "execution_count": 124,
   "metadata": {},
   "outputs": [
    {
     "data": {
      "text/plain": [
       "array([ 2.,  5.,  4.,  8., 10.])"
      ]
     },
     "execution_count": 124,
     "metadata": {},
     "output_type": "execute_result"
    }
   ],
   "source": [
    "A[:,1]"
   ]
  },
  {
   "cell_type": "code",
   "execution_count": 125,
   "metadata": {},
   "outputs": [],
   "source": [
    "import numpy.linalg as la"
   ]
  },
  {
   "cell_type": "code",
   "execution_count": 126,
   "metadata": {},
   "outputs": [
    {
     "data": {
      "text/plain": [
       "array([[  0.52817327,   0.58812168,  -0.1864388 ],\n",
       "       [  8.38302719,  -9.06056958,   1.47502994],\n",
       "       [-12.26509719,  13.23415068,  -0.52506807]])"
      ]
     },
     "execution_count": 126,
     "metadata": {},
     "output_type": "execute_result"
    }
   ],
   "source": [
    "la.inv(np.random.rand(3,3))"
   ]
  },
  {
   "cell_type": "code",
   "execution_count": 127,
   "metadata": {},
   "outputs": [],
   "source": [
    "A.sort(axis=0)"
   ]
  },
  {
   "cell_type": "code",
   "execution_count": 128,
   "metadata": {},
   "outputs": [
    {
     "data": {
      "text/plain": [
       "array([[ 2.,  2.,  1.,  1.],\n",
       "       [ 3.,  4.,  5.,  3.],\n",
       "       [ 3.,  5.,  5.,  4.],\n",
       "       [ 6.,  8.,  8.,  8.],\n",
       "       [ 7., 10., 10.,  9.]])"
      ]
     },
     "execution_count": 128,
     "metadata": {},
     "output_type": "execute_result"
    }
   ],
   "source": [
    "A"
   ]
  },
  {
   "cell_type": "code",
   "execution_count": 129,
   "metadata": {},
   "outputs": [],
   "source": [
    "A = np.arange(100)"
   ]
  },
  {
   "cell_type": "code",
   "execution_count": 130,
   "metadata": {},
   "outputs": [],
   "source": [
    "B = A[[3,5,6]]"
   ]
  },
  {
   "cell_type": "code",
   "execution_count": 131,
   "metadata": {},
   "outputs": [
    {
     "data": {
      "text/plain": [
       "array([3, 5, 6])"
      ]
     },
     "execution_count": 131,
     "metadata": {},
     "output_type": "execute_result"
    }
   ],
   "source": [
    "B"
   ]
  },
  {
   "cell_type": "code",
   "execution_count": 132,
   "metadata": {},
   "outputs": [
    {
     "data": {
      "text/plain": [
       "array([ 0,  1,  2,  3,  4,  5,  6,  7,  8,  9, 10, 11, 12, 13, 14, 15, 16,\n",
       "       17, 18, 19, 20, 21, 22, 23, 24, 25, 26, 27, 28, 29, 30, 31, 32, 33,\n",
       "       34, 35, 36, 37, 38, 39, 40, 41, 42, 43, 44, 45, 46, 47, 48, 49, 50,\n",
       "       51, 52, 53, 54, 55, 56, 57, 58, 59, 60, 61, 62, 63, 64, 65, 66, 67,\n",
       "       68, 69, 70, 71, 72, 73, 74, 75, 76, 77, 78, 79, 80, 81, 82, 83, 84,\n",
       "       85, 86, 87, 88, 89, 90, 91, 92, 93, 94, 95, 96, 97, 98, 99])"
      ]
     },
     "execution_count": 132,
     "metadata": {},
     "output_type": "execute_result"
    }
   ],
   "source": [
    "A"
   ]
  },
  {
   "cell_type": "code",
   "execution_count": 133,
   "metadata": {},
   "outputs": [],
   "source": [
    "B = A[(A<40) & (A>30)]"
   ]
  },
  {
   "cell_type": "code",
   "execution_count": 134,
   "metadata": {},
   "outputs": [
    {
     "data": {
      "text/plain": [
       "array([31, 32, 33, 34, 35, 36, 37, 38, 39])"
      ]
     },
     "execution_count": 134,
     "metadata": {},
     "output_type": "execute_result"
    }
   ],
   "source": [
    "B\n"
   ]
  },
  {
   "cell_type": "code",
   "execution_count": 135,
   "metadata": {},
   "outputs": [],
   "source": [
    "# &, and\n",
    "# /, or\n",
    "# ~, not the operators on the right hand side are used for single  objects, while those on the left are used for arrays"
   ]
  },
  {
   "cell_type": "markdown",
   "metadata": {},
   "source": [
    "# Numpy (Broadcasting)"
   ]
  },
  {
   "cell_type": "code",
   "execution_count": 1,
   "metadata": {},
   "outputs": [
    {
     "data": {
      "text/plain": [
       "'np.hstack\\nnp.vstack\\nnp.sort'"
      ]
     },
     "execution_count": 1,
     "metadata": {},
     "output_type": "execute_result"
    }
   ],
   "source": [
    "\"\"\"np.hstack\n",
    "np.vstack\n",
    "np.sort\"\"\""
   ]
  },
  {
   "cell_type": "code",
   "execution_count": 8,
   "metadata": {},
   "outputs": [],
   "source": [
    "import numpy as np\n",
    "A = np.round(10*np.random.rand(2,3))\n"
   ]
  },
  {
   "cell_type": "code",
   "execution_count": 9,
   "metadata": {},
   "outputs": [
    {
     "data": {
      "text/plain": [
       "array([[1., 6., 5.],\n",
       "       [6., 3., 8.]])"
      ]
     },
     "execution_count": 9,
     "metadata": {},
     "output_type": "execute_result"
    }
   ],
   "source": [
    "A"
   ]
  },
  {
   "cell_type": "code",
   "execution_count": 10,
   "metadata": {},
   "outputs": [
    {
     "data": {
      "text/plain": [
       "array([[ 4.,  9.,  8.],\n",
       "       [ 9.,  6., 11.]])"
      ]
     },
     "execution_count": 10,
     "metadata": {},
     "output_type": "execute_result"
    }
   ],
   "source": [
    "A+3"
   ]
  },
  {
   "cell_type": "code",
   "execution_count": 11,
   "metadata": {},
   "outputs": [
    {
     "data": {
      "text/plain": [
       "array([[1., 6., 5.],\n",
       "       [7., 4., 9.]])"
      ]
     },
     "execution_count": 11,
     "metadata": {},
     "output_type": "execute_result"
    }
   ],
   "source": [
    "A+(np.arange(2).reshape(2,1))"
   ]
  },
  {
   "cell_type": "code",
   "execution_count": 12,
   "metadata": {},
   "outputs": [],
   "source": [
    "B = np.round(np.random.rand(2,2))"
   ]
  },
  {
   "cell_type": "code",
   "execution_count": 13,
   "metadata": {},
   "outputs": [
    {
     "data": {
      "text/plain": [
       "array([[1., 1.],\n",
       "       [1., 1.]])"
      ]
     },
     "execution_count": 13,
     "metadata": {},
     "output_type": "execute_result"
    }
   ],
   "source": [
    "B"
   ]
  },
  {
   "cell_type": "code",
   "execution_count": 14,
   "metadata": {},
   "outputs": [
    {
     "data": {
      "text/plain": [
       "array([[1., 6., 5.],\n",
       "       [6., 3., 8.]])"
      ]
     },
     "execution_count": 14,
     "metadata": {},
     "output_type": "execute_result"
    }
   ],
   "source": [
    "A"
   ]
  },
  {
   "cell_type": "code",
   "execution_count": 15,
   "metadata": {},
   "outputs": [],
   "source": [
    "C = np.hstack((A,B))"
   ]
  },
  {
   "cell_type": "code",
   "execution_count": 16,
   "metadata": {},
   "outputs": [
    {
     "data": {
      "text/plain": [
       "array([[1., 6., 5., 1., 1.],\n",
       "       [6., 3., 8., 1., 1.]])"
      ]
     },
     "execution_count": 16,
     "metadata": {},
     "output_type": "execute_result"
    }
   ],
   "source": [
    "C"
   ]
  },
  {
   "cell_type": "code",
   "execution_count": 18,
   "metadata": {},
   "outputs": [],
   "source": [
    "A = np.random.permutation(np.arange(10))"
   ]
  },
  {
   "cell_type": "code",
   "execution_count": 19,
   "metadata": {},
   "outputs": [
    {
     "data": {
      "text/plain": [
       "array([6, 2, 4, 7, 8, 3, 0, 5, 9, 1])"
      ]
     },
     "execution_count": 19,
     "metadata": {},
     "output_type": "execute_result"
    }
   ],
   "source": [
    "A"
   ]
  },
  {
   "cell_type": "code",
   "execution_count": 20,
   "metadata": {},
   "outputs": [],
   "source": [
    "A.sort()"
   ]
  },
  {
   "cell_type": "code",
   "execution_count": 21,
   "metadata": {},
   "outputs": [
    {
     "data": {
      "text/plain": [
       "array([0, 1, 2, 3, 4, 5, 6, 7, 8, 9])"
      ]
     },
     "execution_count": 21,
     "metadata": {},
     "output_type": "execute_result"
    }
   ],
   "source": [
    "A"
   ]
  },
  {
   "cell_type": "code",
   "execution_count": 22,
   "metadata": {},
   "outputs": [
    {
     "data": {
      "text/plain": [
       "array([0, 1, 2, 3, 4, 5, 6, 7, 8, 9])"
      ]
     },
     "execution_count": 22,
     "metadata": {},
     "output_type": "execute_result"
    }
   ],
   "source": [
    "np.sort(A)"
   ]
  },
  {
   "cell_type": "code",
   "execution_count": 23,
   "metadata": {},
   "outputs": [],
   "source": [
    "A.sort()\n",
    "A = A[::-1]"
   ]
  },
  {
   "cell_type": "code",
   "execution_count": 24,
   "metadata": {},
   "outputs": [
    {
     "data": {
      "text/plain": [
       "array([9, 8, 7, 6, 5, 4, 3, 2, 1, 0])"
      ]
     },
     "execution_count": 24,
     "metadata": {},
     "output_type": "execute_result"
    }
   ],
   "source": [
    "A"
   ]
  },
  {
   "cell_type": "code",
   "execution_count": 25,
   "metadata": {},
   "outputs": [],
   "source": [
    "A = np.array([\"abc\",\"how are you\",\"u765\", \"13er\"])"
   ]
  },
  {
   "cell_type": "code",
   "execution_count": 26,
   "metadata": {},
   "outputs": [],
   "source": [
    "A.sort()"
   ]
  },
  {
   "cell_type": "code",
   "execution_count": 27,
   "metadata": {},
   "outputs": [
    {
     "data": {
      "text/plain": [
       "array(['13er', 'abc', 'how are you', 'u765'], dtype='<U11')"
      ]
     },
     "execution_count": 27,
     "metadata": {},
     "output_type": "execute_result"
    }
   ],
   "source": [
    "A"
   ]
  },
  {
   "cell_type": "markdown",
   "metadata": {},
   "source": [
    "# Numpy (Speed: ufuncs)"
   ]
  },
  {
   "cell_type": "code",
   "execution_count": 28,
   "metadata": {},
   "outputs": [
    {
     "name": "stdout",
     "output_type": "stream",
     "text": [
      "263 ms ± 23.3 ms per loop (mean ± std. dev. of 7 runs, 1 loop each)\n",
      "1.87 ms ± 217 µs per loop (mean ± std. dev. of 7 runs, 100 loops each)\n"
     ]
    }
   ],
   "source": [
    "B = np.random.rand(1000000)\n",
    "%timeit sum(B)\n",
    "%timeit np.sum(B) #B.sum()"
   ]
  },
  {
   "cell_type": "code",
   "execution_count": 29,
   "metadata": {},
   "outputs": [],
   "source": [
    "def mySum(G):\n",
    "    s = 0\n",
    "    for x in G:\n",
    "        s+=x\n",
    "    return G"
   ]
  },
  {
   "cell_type": "code",
   "execution_count": 31,
   "metadata": {},
   "outputs": [
    {
     "name": "stdout",
     "output_type": "stream",
     "text": [
      "333 ms ± 17.5 ms per loop (mean ± std. dev. of 7 runs, 1 loop each)\n"
     ]
    }
   ],
   "source": [
    "%timeit mySum(B)"
   ]
  },
  {
   "cell_type": "markdown",
   "metadata": {},
   "source": [
    "# Pandas"
   ]
  },
  {
   "cell_type": "markdown",
   "metadata": {},
   "source": [
    "Pandas is a data science package that is very powerful for handling data, manipulating data,\n",
    "used alot in data mining, data cleaning and data preprocessing. pandas is built on Numpy so \n",
    "most of the features of Numpy is available in pandas"
   ]
  },
  {
   "cell_type": "code",
   "execution_count": 32,
   "metadata": {},
   "outputs": [],
   "source": [
    "import pandas as pd"
   ]
  },
  {
   "cell_type": "code",
   "execution_count": 34,
   "metadata": {},
   "outputs": [
    {
     "name": "stdout",
     "output_type": "stream",
     "text": [
      "1.1.3\n"
     ]
    }
   ],
   "source": [
    "print(pd.__version__)"
   ]
  },
  {
   "cell_type": "code",
   "execution_count": 37,
   "metadata": {},
   "outputs": [],
   "source": [
    "A = pd.Series([2,3,4,5],index=[\"a\",'b','c','d'])"
   ]
  },
  {
   "cell_type": "code",
   "execution_count": 38,
   "metadata": {},
   "outputs": [
    {
     "data": {
      "text/plain": [
       "array([2, 3, 4, 5], dtype=int64)"
      ]
     },
     "execution_count": 38,
     "metadata": {},
     "output_type": "execute_result"
    }
   ],
   "source": [
    "A.values"
   ]
  },
  {
   "cell_type": "code",
   "execution_count": 39,
   "metadata": {},
   "outputs": [
    {
     "data": {
      "text/plain": [
       "Index(['a', 'b', 'c', 'd'], dtype='object')"
      ]
     },
     "execution_count": 39,
     "metadata": {},
     "output_type": "execute_result"
    }
   ],
   "source": [
    "A.index"
   ]
  },
  {
   "cell_type": "code",
   "execution_count": 40,
   "metadata": {},
   "outputs": [
    {
     "data": {
      "text/plain": [
       "pandas.core.series.Series"
      ]
     },
     "execution_count": 40,
     "metadata": {},
     "output_type": "execute_result"
    }
   ],
   "source": [
    "type(A)"
   ]
  },
  {
   "cell_type": "code",
   "execution_count": 41,
   "metadata": {},
   "outputs": [
    {
     "data": {
      "text/plain": [
       "numpy.ndarray"
      ]
     },
     "execution_count": 41,
     "metadata": {},
     "output_type": "execute_result"
    }
   ],
   "source": [
    "type(A.values)"
   ]
  },
  {
   "cell_type": "code",
   "execution_count": 43,
   "metadata": {},
   "outputs": [
    {
     "data": {
      "text/plain": [
       "2"
      ]
     },
     "execution_count": 43,
     "metadata": {},
     "output_type": "execute_result"
    }
   ],
   "source": [
    "A[\"a\"]"
   ]
  },
  {
   "cell_type": "code",
   "execution_count": 44,
   "metadata": {},
   "outputs": [
    {
     "data": {
      "text/plain": [
       "a    2\n",
       "b    3\n",
       "c    4\n",
       "dtype: int64"
      ]
     },
     "execution_count": 44,
     "metadata": {},
     "output_type": "execute_result"
    }
   ],
   "source": [
    "A[\"a\":\"c\"]"
   ]
  },
  {
   "cell_type": "code",
   "execution_count": 45,
   "metadata": {},
   "outputs": [],
   "source": [
    "grads_dict={\"A\":4,'B':3.5,'C':3,'D':2.5}\n",
    "grads = pd.Series(grads_dict)"
   ]
  },
  {
   "cell_type": "code",
   "execution_count": 46,
   "metadata": {},
   "outputs": [
    {
     "data": {
      "text/plain": [
       "array([4. , 3.5, 3. , 2.5])"
      ]
     },
     "execution_count": 46,
     "metadata": {},
     "output_type": "execute_result"
    }
   ],
   "source": [
    "grads.values"
   ]
  },
  {
   "cell_type": "code",
   "execution_count": 47,
   "metadata": {},
   "outputs": [],
   "source": [
    "marks_dict= {'A':85,\"B\":75, \"C\":65,\"D\":55}\n",
    "marks =pd.Series(marks_dict)"
   ]
  },
  {
   "cell_type": "code",
   "execution_count": 48,
   "metadata": {},
   "outputs": [
    {
     "data": {
      "text/plain": [
       "A    85\n",
       "B    75\n",
       "C    65\n",
       "D    55\n",
       "dtype: int64"
      ]
     },
     "execution_count": 48,
     "metadata": {},
     "output_type": "execute_result"
    }
   ],
   "source": [
    "marks"
   ]
  },
  {
   "cell_type": "code",
   "execution_count": 49,
   "metadata": {},
   "outputs": [
    {
     "data": {
      "text/plain": [
       "85"
      ]
     },
     "execution_count": 49,
     "metadata": {},
     "output_type": "execute_result"
    }
   ],
   "source": [
    "marks[\"A\"]"
   ]
  },
  {
   "cell_type": "code",
   "execution_count": 50,
   "metadata": {},
   "outputs": [
    {
     "data": {
      "text/plain": [
       "A    85\n",
       "B    75\n",
       "dtype: int64"
      ]
     },
     "execution_count": 50,
     "metadata": {},
     "output_type": "execute_result"
    }
   ],
   "source": [
    "marks[0:2]"
   ]
  },
  {
   "cell_type": "markdown",
   "metadata": {},
   "source": [
    "# Pandas (DataFrame)"
   ]
  },
  {
   "cell_type": "code",
   "execution_count": 51,
   "metadata": {},
   "outputs": [
    {
     "data": {
      "text/plain": [
       "A    4.0\n",
       "B    3.5\n",
       "C    3.0\n",
       "D    2.5\n",
       "dtype: float64"
      ]
     },
     "execution_count": 51,
     "metadata": {},
     "output_type": "execute_result"
    }
   ],
   "source": [
    "grads"
   ]
  },
  {
   "cell_type": "code",
   "execution_count": 52,
   "metadata": {},
   "outputs": [],
   "source": [
    "D = pd.DataFrame({\"Marks\":marks, \"Grades\":grads})"
   ]
  },
  {
   "cell_type": "code",
   "execution_count": 53,
   "metadata": {},
   "outputs": [
    {
     "data": {
      "text/html": [
       "<div>\n",
       "<style scoped>\n",
       "    .dataframe tbody tr th:only-of-type {\n",
       "        vertical-align: middle;\n",
       "    }\n",
       "\n",
       "    .dataframe tbody tr th {\n",
       "        vertical-align: top;\n",
       "    }\n",
       "\n",
       "    .dataframe thead th {\n",
       "        text-align: right;\n",
       "    }\n",
       "</style>\n",
       "<table border=\"1\" class=\"dataframe\">\n",
       "  <thead>\n",
       "    <tr style=\"text-align: right;\">\n",
       "      <th></th>\n",
       "      <th>Marks</th>\n",
       "      <th>Grades</th>\n",
       "    </tr>\n",
       "  </thead>\n",
       "  <tbody>\n",
       "    <tr>\n",
       "      <th>A</th>\n",
       "      <td>85</td>\n",
       "      <td>4.0</td>\n",
       "    </tr>\n",
       "    <tr>\n",
       "      <th>B</th>\n",
       "      <td>75</td>\n",
       "      <td>3.5</td>\n",
       "    </tr>\n",
       "    <tr>\n",
       "      <th>C</th>\n",
       "      <td>65</td>\n",
       "      <td>3.0</td>\n",
       "    </tr>\n",
       "    <tr>\n",
       "      <th>D</th>\n",
       "      <td>55</td>\n",
       "      <td>2.5</td>\n",
       "    </tr>\n",
       "  </tbody>\n",
       "</table>\n",
       "</div>"
      ],
      "text/plain": [
       "   Marks  Grades\n",
       "A     85     4.0\n",
       "B     75     3.5\n",
       "C     65     3.0\n",
       "D     55     2.5"
      ]
     },
     "execution_count": 53,
     "metadata": {},
     "output_type": "execute_result"
    }
   ],
   "source": [
    "D"
   ]
  },
  {
   "cell_type": "code",
   "execution_count": 54,
   "metadata": {},
   "outputs": [
    {
     "data": {
      "text/html": [
       "<div>\n",
       "<style scoped>\n",
       "    .dataframe tbody tr th:only-of-type {\n",
       "        vertical-align: middle;\n",
       "    }\n",
       "\n",
       "    .dataframe tbody tr th {\n",
       "        vertical-align: top;\n",
       "    }\n",
       "\n",
       "    .dataframe thead th {\n",
       "        text-align: right;\n",
       "    }\n",
       "</style>\n",
       "<table border=\"1\" class=\"dataframe\">\n",
       "  <thead>\n",
       "    <tr style=\"text-align: right;\">\n",
       "      <th></th>\n",
       "      <th>A</th>\n",
       "      <th>B</th>\n",
       "      <th>C</th>\n",
       "      <th>D</th>\n",
       "    </tr>\n",
       "  </thead>\n",
       "  <tbody>\n",
       "    <tr>\n",
       "      <th>Marks</th>\n",
       "      <td>85.0</td>\n",
       "      <td>75.0</td>\n",
       "      <td>65.0</td>\n",
       "      <td>55.0</td>\n",
       "    </tr>\n",
       "    <tr>\n",
       "      <th>Grades</th>\n",
       "      <td>4.0</td>\n",
       "      <td>3.5</td>\n",
       "      <td>3.0</td>\n",
       "      <td>2.5</td>\n",
       "    </tr>\n",
       "  </tbody>\n",
       "</table>\n",
       "</div>"
      ],
      "text/plain": [
       "           A     B     C     D\n",
       "Marks   85.0  75.0  65.0  55.0\n",
       "Grades   4.0   3.5   3.0   2.5"
      ]
     },
     "execution_count": 54,
     "metadata": {},
     "output_type": "execute_result"
    }
   ],
   "source": [
    "D.T"
   ]
  },
  {
   "cell_type": "code",
   "execution_count": 55,
   "metadata": {},
   "outputs": [
    {
     "data": {
      "text/html": [
       "<div>\n",
       "<style scoped>\n",
       "    .dataframe tbody tr th:only-of-type {\n",
       "        vertical-align: middle;\n",
       "    }\n",
       "\n",
       "    .dataframe tbody tr th {\n",
       "        vertical-align: top;\n",
       "    }\n",
       "\n",
       "    .dataframe thead th {\n",
       "        text-align: right;\n",
       "    }\n",
       "</style>\n",
       "<table border=\"1\" class=\"dataframe\">\n",
       "  <thead>\n",
       "    <tr style=\"text-align: right;\">\n",
       "      <th></th>\n",
       "      <th>Marks</th>\n",
       "      <th>Grades</th>\n",
       "    </tr>\n",
       "  </thead>\n",
       "  <tbody>\n",
       "    <tr>\n",
       "      <th>A</th>\n",
       "      <td>85</td>\n",
       "      <td>4.0</td>\n",
       "    </tr>\n",
       "    <tr>\n",
       "      <th>B</th>\n",
       "      <td>75</td>\n",
       "      <td>3.5</td>\n",
       "    </tr>\n",
       "    <tr>\n",
       "      <th>C</th>\n",
       "      <td>65</td>\n",
       "      <td>3.0</td>\n",
       "    </tr>\n",
       "    <tr>\n",
       "      <th>D</th>\n",
       "      <td>55</td>\n",
       "      <td>2.5</td>\n",
       "    </tr>\n",
       "  </tbody>\n",
       "</table>\n",
       "</div>"
      ],
      "text/plain": [
       "   Marks  Grades\n",
       "A     85     4.0\n",
       "B     75     3.5\n",
       "C     65     3.0\n",
       "D     55     2.5"
      ]
     },
     "execution_count": 55,
     "metadata": {},
     "output_type": "execute_result"
    }
   ],
   "source": [
    "D"
   ]
  },
  {
   "cell_type": "code",
   "execution_count": 56,
   "metadata": {},
   "outputs": [
    {
     "data": {
      "text/plain": [
       "array([[85. ,  4. ],\n",
       "       [75. ,  3.5],\n",
       "       [65. ,  3. ],\n",
       "       [55. ,  2.5]])"
      ]
     },
     "execution_count": 56,
     "metadata": {},
     "output_type": "execute_result"
    }
   ],
   "source": [
    "D.values"
   ]
  },
  {
   "cell_type": "code",
   "execution_count": 57,
   "metadata": {},
   "outputs": [
    {
     "data": {
      "text/plain": [
       "65.0"
      ]
     },
     "execution_count": 57,
     "metadata": {},
     "output_type": "execute_result"
    }
   ],
   "source": [
    "D.values[2,0]"
   ]
  },
  {
   "cell_type": "code",
   "execution_count": 58,
   "metadata": {},
   "outputs": [
    {
     "data": {
      "text/plain": [
       "Index(['Marks', 'Grades'], dtype='object')"
      ]
     },
     "execution_count": 58,
     "metadata": {},
     "output_type": "execute_result"
    }
   ],
   "source": [
    "D.columns"
   ]
  },
  {
   "cell_type": "code",
   "execution_count": 59,
   "metadata": {},
   "outputs": [
    {
     "data": {
      "text/html": [
       "<div>\n",
       "<style scoped>\n",
       "    .dataframe tbody tr th:only-of-type {\n",
       "        vertical-align: middle;\n",
       "    }\n",
       "\n",
       "    .dataframe tbody tr th {\n",
       "        vertical-align: top;\n",
       "    }\n",
       "\n",
       "    .dataframe thead th {\n",
       "        text-align: right;\n",
       "    }\n",
       "</style>\n",
       "<table border=\"1\" class=\"dataframe\">\n",
       "  <thead>\n",
       "    <tr style=\"text-align: right;\">\n",
       "      <th></th>\n",
       "      <th>Marks</th>\n",
       "      <th>Grades</th>\n",
       "    </tr>\n",
       "  </thead>\n",
       "  <tbody>\n",
       "    <tr>\n",
       "      <th>A</th>\n",
       "      <td>85</td>\n",
       "      <td>4.0</td>\n",
       "    </tr>\n",
       "    <tr>\n",
       "      <th>B</th>\n",
       "      <td>75</td>\n",
       "      <td>3.5</td>\n",
       "    </tr>\n",
       "    <tr>\n",
       "      <th>C</th>\n",
       "      <td>65</td>\n",
       "      <td>3.0</td>\n",
       "    </tr>\n",
       "    <tr>\n",
       "      <th>D</th>\n",
       "      <td>55</td>\n",
       "      <td>2.5</td>\n",
       "    </tr>\n",
       "  </tbody>\n",
       "</table>\n",
       "</div>"
      ],
      "text/plain": [
       "   Marks  Grades\n",
       "A     85     4.0\n",
       "B     75     3.5\n",
       "C     65     3.0\n",
       "D     55     2.5"
      ]
     },
     "execution_count": 59,
     "metadata": {},
     "output_type": "execute_result"
    }
   ],
   "source": [
    "D"
   ]
  },
  {
   "cell_type": "code",
   "execution_count": 60,
   "metadata": {},
   "outputs": [],
   "source": [
    "D[\"ScaledMarks\"] = 100*(D[\"Marks\"]/90)"
   ]
  },
  {
   "cell_type": "code",
   "execution_count": 61,
   "metadata": {
    "scrolled": true
   },
   "outputs": [
    {
     "data": {
      "text/html": [
       "<div>\n",
       "<style scoped>\n",
       "    .dataframe tbody tr th:only-of-type {\n",
       "        vertical-align: middle;\n",
       "    }\n",
       "\n",
       "    .dataframe tbody tr th {\n",
       "        vertical-align: top;\n",
       "    }\n",
       "\n",
       "    .dataframe thead th {\n",
       "        text-align: right;\n",
       "    }\n",
       "</style>\n",
       "<table border=\"1\" class=\"dataframe\">\n",
       "  <thead>\n",
       "    <tr style=\"text-align: right;\">\n",
       "      <th></th>\n",
       "      <th>Marks</th>\n",
       "      <th>Grades</th>\n",
       "      <th>ScaledMarks</th>\n",
       "    </tr>\n",
       "  </thead>\n",
       "  <tbody>\n",
       "    <tr>\n",
       "      <th>A</th>\n",
       "      <td>85</td>\n",
       "      <td>4.0</td>\n",
       "      <td>94.444444</td>\n",
       "    </tr>\n",
       "    <tr>\n",
       "      <th>B</th>\n",
       "      <td>75</td>\n",
       "      <td>3.5</td>\n",
       "      <td>83.333333</td>\n",
       "    </tr>\n",
       "    <tr>\n",
       "      <th>C</th>\n",
       "      <td>65</td>\n",
       "      <td>3.0</td>\n",
       "      <td>72.222222</td>\n",
       "    </tr>\n",
       "    <tr>\n",
       "      <th>D</th>\n",
       "      <td>55</td>\n",
       "      <td>2.5</td>\n",
       "      <td>61.111111</td>\n",
       "    </tr>\n",
       "  </tbody>\n",
       "</table>\n",
       "</div>"
      ],
      "text/plain": [
       "   Marks  Grades  ScaledMarks\n",
       "A     85     4.0    94.444444\n",
       "B     75     3.5    83.333333\n",
       "C     65     3.0    72.222222\n",
       "D     55     2.5    61.111111"
      ]
     },
     "execution_count": 61,
     "metadata": {},
     "output_type": "execute_result"
    }
   ],
   "source": [
    "D"
   ]
  },
  {
   "cell_type": "code",
   "execution_count": 64,
   "metadata": {},
   "outputs": [],
   "source": [
    "del D[\"ScaledMarks\"]"
   ]
  },
  {
   "cell_type": "code",
   "execution_count": 65,
   "metadata": {},
   "outputs": [
    {
     "data": {
      "text/html": [
       "<div>\n",
       "<style scoped>\n",
       "    .dataframe tbody tr th:only-of-type {\n",
       "        vertical-align: middle;\n",
       "    }\n",
       "\n",
       "    .dataframe tbody tr th {\n",
       "        vertical-align: top;\n",
       "    }\n",
       "\n",
       "    .dataframe thead th {\n",
       "        text-align: right;\n",
       "    }\n",
       "</style>\n",
       "<table border=\"1\" class=\"dataframe\">\n",
       "  <thead>\n",
       "    <tr style=\"text-align: right;\">\n",
       "      <th></th>\n",
       "      <th>Marks</th>\n",
       "      <th>Grades</th>\n",
       "    </tr>\n",
       "  </thead>\n",
       "  <tbody>\n",
       "    <tr>\n",
       "      <th>A</th>\n",
       "      <td>85</td>\n",
       "      <td>4.0</td>\n",
       "    </tr>\n",
       "    <tr>\n",
       "      <th>B</th>\n",
       "      <td>75</td>\n",
       "      <td>3.5</td>\n",
       "    </tr>\n",
       "    <tr>\n",
       "      <th>C</th>\n",
       "      <td>65</td>\n",
       "      <td>3.0</td>\n",
       "    </tr>\n",
       "    <tr>\n",
       "      <th>D</th>\n",
       "      <td>55</td>\n",
       "      <td>2.5</td>\n",
       "    </tr>\n",
       "  </tbody>\n",
       "</table>\n",
       "</div>"
      ],
      "text/plain": [
       "   Marks  Grades\n",
       "A     85     4.0\n",
       "B     75     3.5\n",
       "C     65     3.0\n",
       "D     55     2.5"
      ]
     },
     "execution_count": 65,
     "metadata": {},
     "output_type": "execute_result"
    }
   ],
   "source": [
    "D"
   ]
  },
  {
   "cell_type": "code",
   "execution_count": 66,
   "metadata": {},
   "outputs": [],
   "source": [
    "G = D[D['Marks']>70]"
   ]
  },
  {
   "cell_type": "code",
   "execution_count": 67,
   "metadata": {},
   "outputs": [
    {
     "data": {
      "text/html": [
       "<div>\n",
       "<style scoped>\n",
       "    .dataframe tbody tr th:only-of-type {\n",
       "        vertical-align: middle;\n",
       "    }\n",
       "\n",
       "    .dataframe tbody tr th {\n",
       "        vertical-align: top;\n",
       "    }\n",
       "\n",
       "    .dataframe thead th {\n",
       "        text-align: right;\n",
       "    }\n",
       "</style>\n",
       "<table border=\"1\" class=\"dataframe\">\n",
       "  <thead>\n",
       "    <tr style=\"text-align: right;\">\n",
       "      <th></th>\n",
       "      <th>Marks</th>\n",
       "      <th>Grades</th>\n",
       "    </tr>\n",
       "  </thead>\n",
       "  <tbody>\n",
       "    <tr>\n",
       "      <th>A</th>\n",
       "      <td>85</td>\n",
       "      <td>4.0</td>\n",
       "    </tr>\n",
       "    <tr>\n",
       "      <th>B</th>\n",
       "      <td>75</td>\n",
       "      <td>3.5</td>\n",
       "    </tr>\n",
       "  </tbody>\n",
       "</table>\n",
       "</div>"
      ],
      "text/plain": [
       "   Marks  Grades\n",
       "A     85     4.0\n",
       "B     75     3.5"
      ]
     },
     "execution_count": 67,
     "metadata": {},
     "output_type": "execute_result"
    }
   ],
   "source": [
    "G"
   ]
  },
  {
   "cell_type": "code",
   "execution_count": 69,
   "metadata": {},
   "outputs": [],
   "source": [
    "A = pd.DataFrame([{\"a\":1,\"b\":4},{\"b\":-3,\"c\":9}])"
   ]
  },
  {
   "cell_type": "code",
   "execution_count": 70,
   "metadata": {},
   "outputs": [
    {
     "data": {
      "text/html": [
       "<div>\n",
       "<style scoped>\n",
       "    .dataframe tbody tr th:only-of-type {\n",
       "        vertical-align: middle;\n",
       "    }\n",
       "\n",
       "    .dataframe tbody tr th {\n",
       "        vertical-align: top;\n",
       "    }\n",
       "\n",
       "    .dataframe thead th {\n",
       "        text-align: right;\n",
       "    }\n",
       "</style>\n",
       "<table border=\"1\" class=\"dataframe\">\n",
       "  <thead>\n",
       "    <tr style=\"text-align: right;\">\n",
       "      <th></th>\n",
       "      <th>a</th>\n",
       "      <th>b</th>\n",
       "      <th>c</th>\n",
       "    </tr>\n",
       "  </thead>\n",
       "  <tbody>\n",
       "    <tr>\n",
       "      <th>0</th>\n",
       "      <td>1.0</td>\n",
       "      <td>4</td>\n",
       "      <td>NaN</td>\n",
       "    </tr>\n",
       "    <tr>\n",
       "      <th>1</th>\n",
       "      <td>NaN</td>\n",
       "      <td>-3</td>\n",
       "      <td>9.0</td>\n",
       "    </tr>\n",
       "  </tbody>\n",
       "</table>\n",
       "</div>"
      ],
      "text/plain": [
       "     a  b    c\n",
       "0  1.0  4  NaN\n",
       "1  NaN -3  9.0"
      ]
     },
     "execution_count": 70,
     "metadata": {},
     "output_type": "execute_result"
    }
   ],
   "source": [
    "A"
   ]
  },
  {
   "cell_type": "code",
   "execution_count": 71,
   "metadata": {},
   "outputs": [
    {
     "data": {
      "text/html": [
       "<div>\n",
       "<style scoped>\n",
       "    .dataframe tbody tr th:only-of-type {\n",
       "        vertical-align: middle;\n",
       "    }\n",
       "\n",
       "    .dataframe tbody tr th {\n",
       "        vertical-align: top;\n",
       "    }\n",
       "\n",
       "    .dataframe thead th {\n",
       "        text-align: right;\n",
       "    }\n",
       "</style>\n",
       "<table border=\"1\" class=\"dataframe\">\n",
       "  <thead>\n",
       "    <tr style=\"text-align: right;\">\n",
       "      <th></th>\n",
       "      <th>a</th>\n",
       "      <th>b</th>\n",
       "      <th>c</th>\n",
       "    </tr>\n",
       "  </thead>\n",
       "  <tbody>\n",
       "    <tr>\n",
       "      <th>0</th>\n",
       "      <td>1.0</td>\n",
       "      <td>4</td>\n",
       "      <td>0.0</td>\n",
       "    </tr>\n",
       "    <tr>\n",
       "      <th>1</th>\n",
       "      <td>0.0</td>\n",
       "      <td>-3</td>\n",
       "      <td>9.0</td>\n",
       "    </tr>\n",
       "  </tbody>\n",
       "</table>\n",
       "</div>"
      ],
      "text/plain": [
       "     a  b    c\n",
       "0  1.0  4  0.0\n",
       "1  0.0 -3  9.0"
      ]
     },
     "execution_count": 71,
     "metadata": {},
     "output_type": "execute_result"
    }
   ],
   "source": [
    "A.fillna(0)"
   ]
  },
  {
   "cell_type": "code",
   "execution_count": 72,
   "metadata": {},
   "outputs": [],
   "source": [
    "A.dropna?"
   ]
  },
  {
   "cell_type": "code",
   "execution_count": 73,
   "metadata": {},
   "outputs": [],
   "source": [
    "A =pd.Series([\"a\",\"b\",'c'], index=[1,3,5])"
   ]
  },
  {
   "cell_type": "code",
   "execution_count": 74,
   "metadata": {},
   "outputs": [
    {
     "data": {
      "text/plain": [
       "'a'"
      ]
     },
     "execution_count": 74,
     "metadata": {},
     "output_type": "execute_result"
    }
   ],
   "source": [
    "A[1]"
   ]
  },
  {
   "cell_type": "code",
   "execution_count": 75,
   "metadata": {},
   "outputs": [
    {
     "data": {
      "text/plain": [
       "3    b\n",
       "5    c\n",
       "dtype: object"
      ]
     },
     "execution_count": 75,
     "metadata": {},
     "output_type": "execute_result"
    }
   ],
   "source": [
    "A[1:3]"
   ]
  },
  {
   "cell_type": "code",
   "execution_count": 76,
   "metadata": {},
   "outputs": [
    {
     "data": {
      "text/plain": [
       "1    a\n",
       "3    b\n",
       "dtype: object"
      ]
     },
     "execution_count": 76,
     "metadata": {},
     "output_type": "execute_result"
    }
   ],
   "source": [
    "A.loc[1:3]"
   ]
  },
  {
   "cell_type": "code",
   "execution_count": 78,
   "metadata": {},
   "outputs": [
    {
     "data": {
      "text/plain": [
       "3    b\n",
       "5    c\n",
       "dtype: object"
      ]
     },
     "execution_count": 78,
     "metadata": {},
     "output_type": "execute_result"
    }
   ],
   "source": [
    "A.iloc[1:3]"
   ]
  },
  {
   "cell_type": "code",
   "execution_count": 79,
   "metadata": {},
   "outputs": [
    {
     "data": {
      "text/html": [
       "<div>\n",
       "<style scoped>\n",
       "    .dataframe tbody tr th:only-of-type {\n",
       "        vertical-align: middle;\n",
       "    }\n",
       "\n",
       "    .dataframe tbody tr th {\n",
       "        vertical-align: top;\n",
       "    }\n",
       "\n",
       "    .dataframe thead th {\n",
       "        text-align: right;\n",
       "    }\n",
       "</style>\n",
       "<table border=\"1\" class=\"dataframe\">\n",
       "  <thead>\n",
       "    <tr style=\"text-align: right;\">\n",
       "      <th></th>\n",
       "      <th>Marks</th>\n",
       "      <th>Grades</th>\n",
       "    </tr>\n",
       "  </thead>\n",
       "  <tbody>\n",
       "    <tr>\n",
       "      <th>A</th>\n",
       "      <td>85</td>\n",
       "      <td>4.0</td>\n",
       "    </tr>\n",
       "    <tr>\n",
       "      <th>B</th>\n",
       "      <td>75</td>\n",
       "      <td>3.5</td>\n",
       "    </tr>\n",
       "    <tr>\n",
       "      <th>C</th>\n",
       "      <td>65</td>\n",
       "      <td>3.0</td>\n",
       "    </tr>\n",
       "    <tr>\n",
       "      <th>D</th>\n",
       "      <td>55</td>\n",
       "      <td>2.5</td>\n",
       "    </tr>\n",
       "  </tbody>\n",
       "</table>\n",
       "</div>"
      ],
      "text/plain": [
       "   Marks  Grades\n",
       "A     85     4.0\n",
       "B     75     3.5\n",
       "C     65     3.0\n",
       "D     55     2.5"
      ]
     },
     "execution_count": 79,
     "metadata": {},
     "output_type": "execute_result"
    }
   ],
   "source": [
    "D"
   ]
  },
  {
   "cell_type": "code",
   "execution_count": 80,
   "metadata": {},
   "outputs": [
    {
     "data": {
      "text/plain": [
       "Marks     65.0\n",
       "Grades     3.0\n",
       "Name: C, dtype: float64"
      ]
     },
     "execution_count": 80,
     "metadata": {},
     "output_type": "execute_result"
    }
   ],
   "source": [
    "D.iloc[2,:]"
   ]
  },
  {
   "cell_type": "code",
   "execution_count": 81,
   "metadata": {},
   "outputs": [
    {
     "data": {
      "text/html": [
       "<div>\n",
       "<style scoped>\n",
       "    .dataframe tbody tr th:only-of-type {\n",
       "        vertical-align: middle;\n",
       "    }\n",
       "\n",
       "    .dataframe tbody tr th {\n",
       "        vertical-align: top;\n",
       "    }\n",
       "\n",
       "    .dataframe thead th {\n",
       "        text-align: right;\n",
       "    }\n",
       "</style>\n",
       "<table border=\"1\" class=\"dataframe\">\n",
       "  <thead>\n",
       "    <tr style=\"text-align: right;\">\n",
       "      <th></th>\n",
       "      <th>Marks</th>\n",
       "      <th>Grades</th>\n",
       "    </tr>\n",
       "  </thead>\n",
       "  <tbody>\n",
       "    <tr>\n",
       "      <th>D</th>\n",
       "      <td>55</td>\n",
       "      <td>2.5</td>\n",
       "    </tr>\n",
       "    <tr>\n",
       "      <th>C</th>\n",
       "      <td>65</td>\n",
       "      <td>3.0</td>\n",
       "    </tr>\n",
       "    <tr>\n",
       "      <th>B</th>\n",
       "      <td>75</td>\n",
       "      <td>3.5</td>\n",
       "    </tr>\n",
       "    <tr>\n",
       "      <th>A</th>\n",
       "      <td>85</td>\n",
       "      <td>4.0</td>\n",
       "    </tr>\n",
       "  </tbody>\n",
       "</table>\n",
       "</div>"
      ],
      "text/plain": [
       "   Marks  Grades\n",
       "D     55     2.5\n",
       "C     65     3.0\n",
       "B     75     3.5\n",
       "A     85     4.0"
      ]
     },
     "execution_count": 81,
     "metadata": {},
     "output_type": "execute_result"
    }
   ],
   "source": [
    "D.iloc[::-1,:]"
   ]
  },
  {
   "cell_type": "markdown",
   "metadata": {},
   "source": [
    "# Pandas (csv files)"
   ]
  },
  {
   "cell_type": "code",
   "execution_count": 82,
   "metadata": {},
   "outputs": [],
   "source": [
    "import pandas as pd\n",
    "import numpy as np\n",
    "from sklearn.impute import SimpleImputer"
   ]
  },
  {
   "cell_type": "code",
   "execution_count": 83,
   "metadata": {},
   "outputs": [],
   "source": [
    "df = pd.read_csv('C:/my modules/data.csv')"
   ]
  },
  {
   "cell_type": "code",
   "execution_count": 84,
   "metadata": {},
   "outputs": [
    {
     "data": {
      "text/html": [
       "<div>\n",
       "<style scoped>\n",
       "    .dataframe tbody tr th:only-of-type {\n",
       "        vertical-align: middle;\n",
       "    }\n",
       "\n",
       "    .dataframe tbody tr th {\n",
       "        vertical-align: top;\n",
       "    }\n",
       "\n",
       "    .dataframe thead th {\n",
       "        text-align: right;\n",
       "    }\n",
       "</style>\n",
       "<table border=\"1\" class=\"dataframe\">\n",
       "  <thead>\n",
       "    <tr style=\"text-align: right;\">\n",
       "      <th></th>\n",
       "      <th>YearWeekISO</th>\n",
       "      <th>ReportingCountry</th>\n",
       "      <th>Denominator</th>\n",
       "      <th>NumberDosesReceived</th>\n",
       "      <th>NumberDosesExported</th>\n",
       "      <th>FirstDose</th>\n",
       "      <th>FirstDoseRefused</th>\n",
       "      <th>SecondDose</th>\n",
       "      <th>DoseAdditional1</th>\n",
       "      <th>UnknownDose</th>\n",
       "      <th>Region</th>\n",
       "      <th>TargetGroup</th>\n",
       "      <th>Vaccine</th>\n",
       "      <th>Population</th>\n",
       "    </tr>\n",
       "  </thead>\n",
       "  <tbody>\n",
       "    <tr>\n",
       "      <th>0</th>\n",
       "      <td>2020-W53</td>\n",
       "      <td>AT</td>\n",
       "      <td>8901064.0</td>\n",
       "      <td>0.0</td>\n",
       "      <td>0.0</td>\n",
       "      <td>0</td>\n",
       "      <td>NaN</td>\n",
       "      <td>0</td>\n",
       "      <td>0</td>\n",
       "      <td>0</td>\n",
       "      <td>AT</td>\n",
       "      <td>ALL</td>\n",
       "      <td>AZ</td>\n",
       "      <td>8901064</td>\n",
       "    </tr>\n",
       "    <tr>\n",
       "      <th>1</th>\n",
       "      <td>2020-W53</td>\n",
       "      <td>AT</td>\n",
       "      <td>8901064.0</td>\n",
       "      <td>0.0</td>\n",
       "      <td>0.0</td>\n",
       "      <td>3</td>\n",
       "      <td>NaN</td>\n",
       "      <td>0</td>\n",
       "      <td>0</td>\n",
       "      <td>0</td>\n",
       "      <td>AT</td>\n",
       "      <td>ALL</td>\n",
       "      <td>UNK</td>\n",
       "      <td>8901064</td>\n",
       "    </tr>\n",
       "    <tr>\n",
       "      <th>2</th>\n",
       "      <td>2020-W53</td>\n",
       "      <td>AT</td>\n",
       "      <td>8901064.0</td>\n",
       "      <td>0.0</td>\n",
       "      <td>0.0</td>\n",
       "      <td>0</td>\n",
       "      <td>NaN</td>\n",
       "      <td>0</td>\n",
       "      <td>0</td>\n",
       "      <td>0</td>\n",
       "      <td>AT</td>\n",
       "      <td>ALL</td>\n",
       "      <td>MOD</td>\n",
       "      <td>8901064</td>\n",
       "    </tr>\n",
       "    <tr>\n",
       "      <th>3</th>\n",
       "      <td>2020-W53</td>\n",
       "      <td>AT</td>\n",
       "      <td>8901064.0</td>\n",
       "      <td>0.0</td>\n",
       "      <td>0.0</td>\n",
       "      <td>0</td>\n",
       "      <td>NaN</td>\n",
       "      <td>0</td>\n",
       "      <td>0</td>\n",
       "      <td>0</td>\n",
       "      <td>AT</td>\n",
       "      <td>ALL</td>\n",
       "      <td>JANSS</td>\n",
       "      <td>8901064</td>\n",
       "    </tr>\n",
       "    <tr>\n",
       "      <th>4</th>\n",
       "      <td>2020-W53</td>\n",
       "      <td>AT</td>\n",
       "      <td>8901064.0</td>\n",
       "      <td>0.0</td>\n",
       "      <td>0.0</td>\n",
       "      <td>0</td>\n",
       "      <td>NaN</td>\n",
       "      <td>0</td>\n",
       "      <td>0</td>\n",
       "      <td>0</td>\n",
       "      <td>AT</td>\n",
       "      <td>ALL</td>\n",
       "      <td>NVXD</td>\n",
       "      <td>8901064</td>\n",
       "    </tr>\n",
       "  </tbody>\n",
       "</table>\n",
       "</div>"
      ],
      "text/plain": [
       "  YearWeekISO ReportingCountry  Denominator  NumberDosesReceived  \\\n",
       "0    2020-W53               AT    8901064.0                  0.0   \n",
       "1    2020-W53               AT    8901064.0                  0.0   \n",
       "2    2020-W53               AT    8901064.0                  0.0   \n",
       "3    2020-W53               AT    8901064.0                  0.0   \n",
       "4    2020-W53               AT    8901064.0                  0.0   \n",
       "\n",
       "   NumberDosesExported  FirstDose  FirstDoseRefused  SecondDose  \\\n",
       "0                  0.0          0               NaN           0   \n",
       "1                  0.0          3               NaN           0   \n",
       "2                  0.0          0               NaN           0   \n",
       "3                  0.0          0               NaN           0   \n",
       "4                  0.0          0               NaN           0   \n",
       "\n",
       "   DoseAdditional1  UnknownDose Region TargetGroup Vaccine  Population  \n",
       "0                0            0     AT         ALL      AZ     8901064  \n",
       "1                0            0     AT         ALL     UNK     8901064  \n",
       "2                0            0     AT         ALL     MOD     8901064  \n",
       "3                0            0     AT         ALL   JANSS     8901064  \n",
       "4                0            0     AT         ALL    NVXD     8901064  "
      ]
     },
     "execution_count": 84,
     "metadata": {},
     "output_type": "execute_result"
    }
   ],
   "source": [
    "df.head()"
   ]
  },
  {
   "cell_type": "code",
   "execution_count": 89,
   "metadata": {},
   "outputs": [
    {
     "ename": "KeyError",
     "evalue": "\"['DoseAdditional1' 'UnknownDose'] not found in axis\"",
     "output_type": "error",
     "traceback": [
      "\u001b[1;31m---------------------------------------------------------------------------\u001b[0m",
      "\u001b[1;31mKeyError\u001b[0m                                  Traceback (most recent call last)",
      "\u001b[1;32m<ipython-input-89-8c7cce2cbabc>\u001b[0m in \u001b[0;36m<module>\u001b[1;34m\u001b[0m\n\u001b[1;32m----> 1\u001b[1;33m \u001b[0mdf\u001b[0m\u001b[1;33m.\u001b[0m\u001b[0mdrop\u001b[0m\u001b[1;33m(\u001b[0m\u001b[1;33m[\u001b[0m\u001b[1;34m\"DoseAdditional1\"\u001b[0m\u001b[1;33m,\u001b[0m\u001b[1;34m'FirstDoseRefused'\u001b[0m\u001b[1;33m,\u001b[0m \u001b[1;34m\"UnknownDose\"\u001b[0m\u001b[1;33m,\u001b[0m\u001b[1;33m]\u001b[0m\u001b[1;33m,\u001b[0m \u001b[0maxis\u001b[0m\u001b[1;33m=\u001b[0m\u001b[1;36m1\u001b[0m\u001b[1;33m,\u001b[0m \u001b[0minplace\u001b[0m\u001b[1;33m=\u001b[0m\u001b[1;32mTrue\u001b[0m\u001b[1;33m)\u001b[0m\u001b[1;33m\u001b[0m\u001b[1;33m\u001b[0m\u001b[0m\n\u001b[0m",
      "\u001b[1;32m~\\anaconda3\\lib\\site-packages\\pandas\\core\\frame.py\u001b[0m in \u001b[0;36mdrop\u001b[1;34m(self, labels, axis, index, columns, level, inplace, errors)\u001b[0m\n\u001b[0;32m   4161\u001b[0m                 \u001b[0mweight\u001b[0m  \u001b[1;36m1.0\u001b[0m     \u001b[1;36m0.8\u001b[0m\u001b[1;33m\u001b[0m\u001b[1;33m\u001b[0m\u001b[0m\n\u001b[0;32m   4162\u001b[0m         \"\"\"\n\u001b[1;32m-> 4163\u001b[1;33m         return super().drop(\n\u001b[0m\u001b[0;32m   4164\u001b[0m             \u001b[0mlabels\u001b[0m\u001b[1;33m=\u001b[0m\u001b[0mlabels\u001b[0m\u001b[1;33m,\u001b[0m\u001b[1;33m\u001b[0m\u001b[1;33m\u001b[0m\u001b[0m\n\u001b[0;32m   4165\u001b[0m             \u001b[0maxis\u001b[0m\u001b[1;33m=\u001b[0m\u001b[0maxis\u001b[0m\u001b[1;33m,\u001b[0m\u001b[1;33m\u001b[0m\u001b[1;33m\u001b[0m\u001b[0m\n",
      "\u001b[1;32m~\\anaconda3\\lib\\site-packages\\pandas\\core\\generic.py\u001b[0m in \u001b[0;36mdrop\u001b[1;34m(self, labels, axis, index, columns, level, inplace, errors)\u001b[0m\n\u001b[0;32m   3885\u001b[0m         \u001b[1;32mfor\u001b[0m \u001b[0maxis\u001b[0m\u001b[1;33m,\u001b[0m \u001b[0mlabels\u001b[0m \u001b[1;32min\u001b[0m \u001b[0maxes\u001b[0m\u001b[1;33m.\u001b[0m\u001b[0mitems\u001b[0m\u001b[1;33m(\u001b[0m\u001b[1;33m)\u001b[0m\u001b[1;33m:\u001b[0m\u001b[1;33m\u001b[0m\u001b[1;33m\u001b[0m\u001b[0m\n\u001b[0;32m   3886\u001b[0m             \u001b[1;32mif\u001b[0m \u001b[0mlabels\u001b[0m \u001b[1;32mis\u001b[0m \u001b[1;32mnot\u001b[0m \u001b[1;32mNone\u001b[0m\u001b[1;33m:\u001b[0m\u001b[1;33m\u001b[0m\u001b[1;33m\u001b[0m\u001b[0m\n\u001b[1;32m-> 3887\u001b[1;33m                 \u001b[0mobj\u001b[0m \u001b[1;33m=\u001b[0m \u001b[0mobj\u001b[0m\u001b[1;33m.\u001b[0m\u001b[0m_drop_axis\u001b[0m\u001b[1;33m(\u001b[0m\u001b[0mlabels\u001b[0m\u001b[1;33m,\u001b[0m \u001b[0maxis\u001b[0m\u001b[1;33m,\u001b[0m \u001b[0mlevel\u001b[0m\u001b[1;33m=\u001b[0m\u001b[0mlevel\u001b[0m\u001b[1;33m,\u001b[0m \u001b[0merrors\u001b[0m\u001b[1;33m=\u001b[0m\u001b[0merrors\u001b[0m\u001b[1;33m)\u001b[0m\u001b[1;33m\u001b[0m\u001b[1;33m\u001b[0m\u001b[0m\n\u001b[0m\u001b[0;32m   3888\u001b[0m \u001b[1;33m\u001b[0m\u001b[0m\n\u001b[0;32m   3889\u001b[0m         \u001b[1;32mif\u001b[0m \u001b[0minplace\u001b[0m\u001b[1;33m:\u001b[0m\u001b[1;33m\u001b[0m\u001b[1;33m\u001b[0m\u001b[0m\n",
      "\u001b[1;32m~\\anaconda3\\lib\\site-packages\\pandas\\core\\generic.py\u001b[0m in \u001b[0;36m_drop_axis\u001b[1;34m(self, labels, axis, level, errors)\u001b[0m\n\u001b[0;32m   3919\u001b[0m                 \u001b[0mnew_axis\u001b[0m \u001b[1;33m=\u001b[0m \u001b[0maxis\u001b[0m\u001b[1;33m.\u001b[0m\u001b[0mdrop\u001b[0m\u001b[1;33m(\u001b[0m\u001b[0mlabels\u001b[0m\u001b[1;33m,\u001b[0m \u001b[0mlevel\u001b[0m\u001b[1;33m=\u001b[0m\u001b[0mlevel\u001b[0m\u001b[1;33m,\u001b[0m \u001b[0merrors\u001b[0m\u001b[1;33m=\u001b[0m\u001b[0merrors\u001b[0m\u001b[1;33m)\u001b[0m\u001b[1;33m\u001b[0m\u001b[1;33m\u001b[0m\u001b[0m\n\u001b[0;32m   3920\u001b[0m             \u001b[1;32melse\u001b[0m\u001b[1;33m:\u001b[0m\u001b[1;33m\u001b[0m\u001b[1;33m\u001b[0m\u001b[0m\n\u001b[1;32m-> 3921\u001b[1;33m                 \u001b[0mnew_axis\u001b[0m \u001b[1;33m=\u001b[0m \u001b[0maxis\u001b[0m\u001b[1;33m.\u001b[0m\u001b[0mdrop\u001b[0m\u001b[1;33m(\u001b[0m\u001b[0mlabels\u001b[0m\u001b[1;33m,\u001b[0m \u001b[0merrors\u001b[0m\u001b[1;33m=\u001b[0m\u001b[0merrors\u001b[0m\u001b[1;33m)\u001b[0m\u001b[1;33m\u001b[0m\u001b[1;33m\u001b[0m\u001b[0m\n\u001b[0m\u001b[0;32m   3922\u001b[0m             \u001b[0mresult\u001b[0m \u001b[1;33m=\u001b[0m \u001b[0mself\u001b[0m\u001b[1;33m.\u001b[0m\u001b[0mreindex\u001b[0m\u001b[1;33m(\u001b[0m\u001b[1;33m**\u001b[0m\u001b[1;33m{\u001b[0m\u001b[0maxis_name\u001b[0m\u001b[1;33m:\u001b[0m \u001b[0mnew_axis\u001b[0m\u001b[1;33m}\u001b[0m\u001b[1;33m)\u001b[0m\u001b[1;33m\u001b[0m\u001b[1;33m\u001b[0m\u001b[0m\n\u001b[0;32m   3923\u001b[0m \u001b[1;33m\u001b[0m\u001b[0m\n",
      "\u001b[1;32m~\\anaconda3\\lib\\site-packages\\pandas\\core\\indexes\\base.py\u001b[0m in \u001b[0;36mdrop\u001b[1;34m(self, labels, errors)\u001b[0m\n\u001b[0;32m   5280\u001b[0m         \u001b[1;32mif\u001b[0m \u001b[0mmask\u001b[0m\u001b[1;33m.\u001b[0m\u001b[0many\u001b[0m\u001b[1;33m(\u001b[0m\u001b[1;33m)\u001b[0m\u001b[1;33m:\u001b[0m\u001b[1;33m\u001b[0m\u001b[1;33m\u001b[0m\u001b[0m\n\u001b[0;32m   5281\u001b[0m             \u001b[1;32mif\u001b[0m \u001b[0merrors\u001b[0m \u001b[1;33m!=\u001b[0m \u001b[1;34m\"ignore\"\u001b[0m\u001b[1;33m:\u001b[0m\u001b[1;33m\u001b[0m\u001b[1;33m\u001b[0m\u001b[0m\n\u001b[1;32m-> 5282\u001b[1;33m                 \u001b[1;32mraise\u001b[0m \u001b[0mKeyError\u001b[0m\u001b[1;33m(\u001b[0m\u001b[1;34mf\"{labels[mask]} not found in axis\"\u001b[0m\u001b[1;33m)\u001b[0m\u001b[1;33m\u001b[0m\u001b[1;33m\u001b[0m\u001b[0m\n\u001b[0m\u001b[0;32m   5283\u001b[0m             \u001b[0mindexer\u001b[0m \u001b[1;33m=\u001b[0m \u001b[0mindexer\u001b[0m\u001b[1;33m[\u001b[0m\u001b[1;33m~\u001b[0m\u001b[0mmask\u001b[0m\u001b[1;33m]\u001b[0m\u001b[1;33m\u001b[0m\u001b[1;33m\u001b[0m\u001b[0m\n\u001b[0;32m   5284\u001b[0m         \u001b[1;32mreturn\u001b[0m \u001b[0mself\u001b[0m\u001b[1;33m.\u001b[0m\u001b[0mdelete\u001b[0m\u001b[1;33m(\u001b[0m\u001b[0mindexer\u001b[0m\u001b[1;33m)\u001b[0m\u001b[1;33m\u001b[0m\u001b[1;33m\u001b[0m\u001b[0m\n",
      "\u001b[1;31mKeyError\u001b[0m: \"['DoseAdditional1' 'UnknownDose'] not found in axis\""
     ]
    }
   ],
   "source": [
    "df.drop([\"DoseAdditional1\",'FirstDoseRefused', \"UnknownDose\",], axis=1, inplace=True)"
   ]
  },
  {
   "cell_type": "code",
   "execution_count": 90,
   "metadata": {},
   "outputs": [],
   "source": [
    "df.drop(['FirstDoseRefused'], axis=1, inplace=True)"
   ]
  },
  {
   "cell_type": "code",
   "execution_count": 91,
   "metadata": {},
   "outputs": [
    {
     "data": {
      "text/html": [
       "<div>\n",
       "<style scoped>\n",
       "    .dataframe tbody tr th:only-of-type {\n",
       "        vertical-align: middle;\n",
       "    }\n",
       "\n",
       "    .dataframe tbody tr th {\n",
       "        vertical-align: top;\n",
       "    }\n",
       "\n",
       "    .dataframe thead th {\n",
       "        text-align: right;\n",
       "    }\n",
       "</style>\n",
       "<table border=\"1\" class=\"dataframe\">\n",
       "  <thead>\n",
       "    <tr style=\"text-align: right;\">\n",
       "      <th></th>\n",
       "      <th>YearWeekISO</th>\n",
       "      <th>ReportingCountry</th>\n",
       "      <th>Denominator</th>\n",
       "      <th>NumberDosesReceived</th>\n",
       "      <th>NumberDosesExported</th>\n",
       "      <th>FirstDose</th>\n",
       "      <th>SecondDose</th>\n",
       "      <th>Region</th>\n",
       "      <th>TargetGroup</th>\n",
       "      <th>Vaccine</th>\n",
       "      <th>Population</th>\n",
       "    </tr>\n",
       "  </thead>\n",
       "  <tbody>\n",
       "    <tr>\n",
       "      <th>0</th>\n",
       "      <td>2020-W53</td>\n",
       "      <td>AT</td>\n",
       "      <td>8901064.0</td>\n",
       "      <td>0.0</td>\n",
       "      <td>0.0</td>\n",
       "      <td>0</td>\n",
       "      <td>0</td>\n",
       "      <td>AT</td>\n",
       "      <td>ALL</td>\n",
       "      <td>AZ</td>\n",
       "      <td>8901064</td>\n",
       "    </tr>\n",
       "    <tr>\n",
       "      <th>1</th>\n",
       "      <td>2020-W53</td>\n",
       "      <td>AT</td>\n",
       "      <td>8901064.0</td>\n",
       "      <td>0.0</td>\n",
       "      <td>0.0</td>\n",
       "      <td>3</td>\n",
       "      <td>0</td>\n",
       "      <td>AT</td>\n",
       "      <td>ALL</td>\n",
       "      <td>UNK</td>\n",
       "      <td>8901064</td>\n",
       "    </tr>\n",
       "    <tr>\n",
       "      <th>2</th>\n",
       "      <td>2020-W53</td>\n",
       "      <td>AT</td>\n",
       "      <td>8901064.0</td>\n",
       "      <td>0.0</td>\n",
       "      <td>0.0</td>\n",
       "      <td>0</td>\n",
       "      <td>0</td>\n",
       "      <td>AT</td>\n",
       "      <td>ALL</td>\n",
       "      <td>MOD</td>\n",
       "      <td>8901064</td>\n",
       "    </tr>\n",
       "    <tr>\n",
       "      <th>3</th>\n",
       "      <td>2020-W53</td>\n",
       "      <td>AT</td>\n",
       "      <td>8901064.0</td>\n",
       "      <td>0.0</td>\n",
       "      <td>0.0</td>\n",
       "      <td>0</td>\n",
       "      <td>0</td>\n",
       "      <td>AT</td>\n",
       "      <td>ALL</td>\n",
       "      <td>JANSS</td>\n",
       "      <td>8901064</td>\n",
       "    </tr>\n",
       "    <tr>\n",
       "      <th>4</th>\n",
       "      <td>2020-W53</td>\n",
       "      <td>AT</td>\n",
       "      <td>8901064.0</td>\n",
       "      <td>0.0</td>\n",
       "      <td>0.0</td>\n",
       "      <td>0</td>\n",
       "      <td>0</td>\n",
       "      <td>AT</td>\n",
       "      <td>ALL</td>\n",
       "      <td>NVXD</td>\n",
       "      <td>8901064</td>\n",
       "    </tr>\n",
       "  </tbody>\n",
       "</table>\n",
       "</div>"
      ],
      "text/plain": [
       "  YearWeekISO ReportingCountry  Denominator  NumberDosesReceived  \\\n",
       "0    2020-W53               AT    8901064.0                  0.0   \n",
       "1    2020-W53               AT    8901064.0                  0.0   \n",
       "2    2020-W53               AT    8901064.0                  0.0   \n",
       "3    2020-W53               AT    8901064.0                  0.0   \n",
       "4    2020-W53               AT    8901064.0                  0.0   \n",
       "\n",
       "   NumberDosesExported  FirstDose  SecondDose Region TargetGroup Vaccine  \\\n",
       "0                  0.0          0           0     AT         ALL      AZ   \n",
       "1                  0.0          3           0     AT         ALL     UNK   \n",
       "2                  0.0          0           0     AT         ALL     MOD   \n",
       "3                  0.0          0           0     AT         ALL   JANSS   \n",
       "4                  0.0          0           0     AT         ALL    NVXD   \n",
       "\n",
       "   Population  \n",
       "0     8901064  \n",
       "1     8901064  \n",
       "2     8901064  \n",
       "3     8901064  \n",
       "4     8901064  "
      ]
     },
     "execution_count": 91,
     "metadata": {},
     "output_type": "execute_result"
    }
   ],
   "source": [
    "df.head()"
   ]
  },
  {
   "cell_type": "code",
   "execution_count": 93,
   "metadata": {},
   "outputs": [],
   "source": [
    "df.rename(columns={'ReportingCountry':\"Country\",\"NumberDosesExported\":\"Exported\"}, inplace=True)"
   ]
  },
  {
   "cell_type": "code",
   "execution_count": 94,
   "metadata": {},
   "outputs": [
    {
     "data": {
      "text/html": [
       "<div>\n",
       "<style scoped>\n",
       "    .dataframe tbody tr th:only-of-type {\n",
       "        vertical-align: middle;\n",
       "    }\n",
       "\n",
       "    .dataframe tbody tr th {\n",
       "        vertical-align: top;\n",
       "    }\n",
       "\n",
       "    .dataframe thead th {\n",
       "        text-align: right;\n",
       "    }\n",
       "</style>\n",
       "<table border=\"1\" class=\"dataframe\">\n",
       "  <thead>\n",
       "    <tr style=\"text-align: right;\">\n",
       "      <th></th>\n",
       "      <th>YearWeekISO</th>\n",
       "      <th>Country</th>\n",
       "      <th>Denominator</th>\n",
       "      <th>NumberDosesReceived</th>\n",
       "      <th>Exported</th>\n",
       "      <th>FirstDose</th>\n",
       "      <th>SecondDose</th>\n",
       "      <th>Region</th>\n",
       "      <th>TargetGroup</th>\n",
       "      <th>Vaccine</th>\n",
       "      <th>Population</th>\n",
       "    </tr>\n",
       "  </thead>\n",
       "  <tbody>\n",
       "    <tr>\n",
       "      <th>0</th>\n",
       "      <td>2020-W53</td>\n",
       "      <td>AT</td>\n",
       "      <td>8901064.0</td>\n",
       "      <td>0.0</td>\n",
       "      <td>0.0</td>\n",
       "      <td>0</td>\n",
       "      <td>0</td>\n",
       "      <td>AT</td>\n",
       "      <td>ALL</td>\n",
       "      <td>AZ</td>\n",
       "      <td>8901064</td>\n",
       "    </tr>\n",
       "    <tr>\n",
       "      <th>1</th>\n",
       "      <td>2020-W53</td>\n",
       "      <td>AT</td>\n",
       "      <td>8901064.0</td>\n",
       "      <td>0.0</td>\n",
       "      <td>0.0</td>\n",
       "      <td>3</td>\n",
       "      <td>0</td>\n",
       "      <td>AT</td>\n",
       "      <td>ALL</td>\n",
       "      <td>UNK</td>\n",
       "      <td>8901064</td>\n",
       "    </tr>\n",
       "    <tr>\n",
       "      <th>2</th>\n",
       "      <td>2020-W53</td>\n",
       "      <td>AT</td>\n",
       "      <td>8901064.0</td>\n",
       "      <td>0.0</td>\n",
       "      <td>0.0</td>\n",
       "      <td>0</td>\n",
       "      <td>0</td>\n",
       "      <td>AT</td>\n",
       "      <td>ALL</td>\n",
       "      <td>MOD</td>\n",
       "      <td>8901064</td>\n",
       "    </tr>\n",
       "    <tr>\n",
       "      <th>3</th>\n",
       "      <td>2020-W53</td>\n",
       "      <td>AT</td>\n",
       "      <td>8901064.0</td>\n",
       "      <td>0.0</td>\n",
       "      <td>0.0</td>\n",
       "      <td>0</td>\n",
       "      <td>0</td>\n",
       "      <td>AT</td>\n",
       "      <td>ALL</td>\n",
       "      <td>JANSS</td>\n",
       "      <td>8901064</td>\n",
       "    </tr>\n",
       "    <tr>\n",
       "      <th>4</th>\n",
       "      <td>2020-W53</td>\n",
       "      <td>AT</td>\n",
       "      <td>8901064.0</td>\n",
       "      <td>0.0</td>\n",
       "      <td>0.0</td>\n",
       "      <td>0</td>\n",
       "      <td>0</td>\n",
       "      <td>AT</td>\n",
       "      <td>ALL</td>\n",
       "      <td>NVXD</td>\n",
       "      <td>8901064</td>\n",
       "    </tr>\n",
       "  </tbody>\n",
       "</table>\n",
       "</div>"
      ],
      "text/plain": [
       "  YearWeekISO Country  Denominator  NumberDosesReceived  Exported  FirstDose  \\\n",
       "0    2020-W53      AT    8901064.0                  0.0       0.0          0   \n",
       "1    2020-W53      AT    8901064.0                  0.0       0.0          3   \n",
       "2    2020-W53      AT    8901064.0                  0.0       0.0          0   \n",
       "3    2020-W53      AT    8901064.0                  0.0       0.0          0   \n",
       "4    2020-W53      AT    8901064.0                  0.0       0.0          0   \n",
       "\n",
       "   SecondDose Region TargetGroup Vaccine  Population  \n",
       "0           0     AT         ALL      AZ     8901064  \n",
       "1           0     AT         ALL     UNK     8901064  \n",
       "2           0     AT         ALL     MOD     8901064  \n",
       "3           0     AT         ALL   JANSS     8901064  \n",
       "4           0     AT         ALL    NVXD     8901064  "
      ]
     },
     "execution_count": 94,
     "metadata": {},
     "output_type": "execute_result"
    }
   ],
   "source": [
    "df.head()"
   ]
  },
  {
   "cell_type": "code",
   "execution_count": 95,
   "metadata": {},
   "outputs": [],
   "source": [
    "df.rename(columns={'NumberDosesReceived':\"DosesReceived\"}, inplace=True)"
   ]
  },
  {
   "cell_type": "code",
   "execution_count": 96,
   "metadata": {},
   "outputs": [
    {
     "data": {
      "text/html": [
       "<div>\n",
       "<style scoped>\n",
       "    .dataframe tbody tr th:only-of-type {\n",
       "        vertical-align: middle;\n",
       "    }\n",
       "\n",
       "    .dataframe tbody tr th {\n",
       "        vertical-align: top;\n",
       "    }\n",
       "\n",
       "    .dataframe thead th {\n",
       "        text-align: right;\n",
       "    }\n",
       "</style>\n",
       "<table border=\"1\" class=\"dataframe\">\n",
       "  <thead>\n",
       "    <tr style=\"text-align: right;\">\n",
       "      <th></th>\n",
       "      <th>YearWeekISO</th>\n",
       "      <th>Country</th>\n",
       "      <th>Denominator</th>\n",
       "      <th>DosesReceived</th>\n",
       "      <th>Exported</th>\n",
       "      <th>FirstDose</th>\n",
       "      <th>SecondDose</th>\n",
       "      <th>Region</th>\n",
       "      <th>TargetGroup</th>\n",
       "      <th>Vaccine</th>\n",
       "      <th>Population</th>\n",
       "    </tr>\n",
       "  </thead>\n",
       "  <tbody>\n",
       "    <tr>\n",
       "      <th>0</th>\n",
       "      <td>2020-W53</td>\n",
       "      <td>AT</td>\n",
       "      <td>8901064.0</td>\n",
       "      <td>0.0</td>\n",
       "      <td>0.0</td>\n",
       "      <td>0</td>\n",
       "      <td>0</td>\n",
       "      <td>AT</td>\n",
       "      <td>ALL</td>\n",
       "      <td>AZ</td>\n",
       "      <td>8901064</td>\n",
       "    </tr>\n",
       "    <tr>\n",
       "      <th>1</th>\n",
       "      <td>2020-W53</td>\n",
       "      <td>AT</td>\n",
       "      <td>8901064.0</td>\n",
       "      <td>0.0</td>\n",
       "      <td>0.0</td>\n",
       "      <td>3</td>\n",
       "      <td>0</td>\n",
       "      <td>AT</td>\n",
       "      <td>ALL</td>\n",
       "      <td>UNK</td>\n",
       "      <td>8901064</td>\n",
       "    </tr>\n",
       "    <tr>\n",
       "      <th>2</th>\n",
       "      <td>2020-W53</td>\n",
       "      <td>AT</td>\n",
       "      <td>8901064.0</td>\n",
       "      <td>0.0</td>\n",
       "      <td>0.0</td>\n",
       "      <td>0</td>\n",
       "      <td>0</td>\n",
       "      <td>AT</td>\n",
       "      <td>ALL</td>\n",
       "      <td>MOD</td>\n",
       "      <td>8901064</td>\n",
       "    </tr>\n",
       "    <tr>\n",
       "      <th>3</th>\n",
       "      <td>2020-W53</td>\n",
       "      <td>AT</td>\n",
       "      <td>8901064.0</td>\n",
       "      <td>0.0</td>\n",
       "      <td>0.0</td>\n",
       "      <td>0</td>\n",
       "      <td>0</td>\n",
       "      <td>AT</td>\n",
       "      <td>ALL</td>\n",
       "      <td>JANSS</td>\n",
       "      <td>8901064</td>\n",
       "    </tr>\n",
       "    <tr>\n",
       "      <th>4</th>\n",
       "      <td>2020-W53</td>\n",
       "      <td>AT</td>\n",
       "      <td>8901064.0</td>\n",
       "      <td>0.0</td>\n",
       "      <td>0.0</td>\n",
       "      <td>0</td>\n",
       "      <td>0</td>\n",
       "      <td>AT</td>\n",
       "      <td>ALL</td>\n",
       "      <td>NVXD</td>\n",
       "      <td>8901064</td>\n",
       "    </tr>\n",
       "  </tbody>\n",
       "</table>\n",
       "</div>"
      ],
      "text/plain": [
       "  YearWeekISO Country  Denominator  DosesReceived  Exported  FirstDose  \\\n",
       "0    2020-W53      AT    8901064.0            0.0       0.0          0   \n",
       "1    2020-W53      AT    8901064.0            0.0       0.0          3   \n",
       "2    2020-W53      AT    8901064.0            0.0       0.0          0   \n",
       "3    2020-W53      AT    8901064.0            0.0       0.0          0   \n",
       "4    2020-W53      AT    8901064.0            0.0       0.0          0   \n",
       "\n",
       "   SecondDose Region TargetGroup Vaccine  Population  \n",
       "0           0     AT         ALL      AZ     8901064  \n",
       "1           0     AT         ALL     UNK     8901064  \n",
       "2           0     AT         ALL     MOD     8901064  \n",
       "3           0     AT         ALL   JANSS     8901064  \n",
       "4           0     AT         ALL    NVXD     8901064  "
      ]
     },
     "execution_count": 96,
     "metadata": {},
     "output_type": "execute_result"
    }
   ],
   "source": [
    "df.head()"
   ]
  },
  {
   "cell_type": "code",
   "execution_count": 97,
   "metadata": {},
   "outputs": [
    {
     "data": {
      "text/html": [
       "<div>\n",
       "<style scoped>\n",
       "    .dataframe tbody tr th:only-of-type {\n",
       "        vertical-align: middle;\n",
       "    }\n",
       "\n",
       "    .dataframe tbody tr th {\n",
       "        vertical-align: top;\n",
       "    }\n",
       "\n",
       "    .dataframe thead th {\n",
       "        text-align: right;\n",
       "    }\n",
       "</style>\n",
       "<table border=\"1\" class=\"dataframe\">\n",
       "  <thead>\n",
       "    <tr style=\"text-align: right;\">\n",
       "      <th></th>\n",
       "      <th>Denominator</th>\n",
       "      <th>DosesReceived</th>\n",
       "      <th>Exported</th>\n",
       "      <th>FirstDose</th>\n",
       "      <th>SecondDose</th>\n",
       "      <th>Population</th>\n",
       "    </tr>\n",
       "  </thead>\n",
       "  <tbody>\n",
       "    <tr>\n",
       "      <th>count</th>\n",
       "      <td>1.544410e+05</td>\n",
       "      <td>4.170300e+04</td>\n",
       "      <td>3.070000e+04</td>\n",
       "      <td>2.624480e+05</td>\n",
       "      <td>2.624480e+05</td>\n",
       "      <td>2.624480e+05</td>\n",
       "    </tr>\n",
       "    <tr>\n",
       "      <th>mean</th>\n",
       "      <td>1.729972e+06</td>\n",
       "      <td>4.856856e+04</td>\n",
       "      <td>3.728049e+03</td>\n",
       "      <td>3.469876e+03</td>\n",
       "      <td>3.151169e+03</td>\n",
       "      <td>1.835151e+07</td>\n",
       "    </tr>\n",
       "    <tr>\n",
       "      <th>std</th>\n",
       "      <td>6.317091e+06</td>\n",
       "      <td>2.367111e+05</td>\n",
       "      <td>6.475408e+04</td>\n",
       "      <td>3.759447e+04</td>\n",
       "      <td>3.678639e+04</td>\n",
       "      <td>1.911059e+07</td>\n",
       "    </tr>\n",
       "    <tr>\n",
       "      <th>min</th>\n",
       "      <td>9.680000e+02</td>\n",
       "      <td>0.000000e+00</td>\n",
       "      <td>0.000000e+00</td>\n",
       "      <td>0.000000e+00</td>\n",
       "      <td>0.000000e+00</td>\n",
       "      <td>3.874700e+04</td>\n",
       "    </tr>\n",
       "    <tr>\n",
       "      <th>25%</th>\n",
       "      <td>9.488400e+04</td>\n",
       "      <td>0.000000e+00</td>\n",
       "      <td>0.000000e+00</td>\n",
       "      <td>0.000000e+00</td>\n",
       "      <td>0.000000e+00</td>\n",
       "      <td>5.525292e+06</td>\n",
       "    </tr>\n",
       "    <tr>\n",
       "      <th>50%</th>\n",
       "      <td>2.630180e+05</td>\n",
       "      <td>0.000000e+00</td>\n",
       "      <td>0.000000e+00</td>\n",
       "      <td>1.000000e+00</td>\n",
       "      <td>0.000000e+00</td>\n",
       "      <td>5.525292e+06</td>\n",
       "    </tr>\n",
       "    <tr>\n",
       "      <th>75%</th>\n",
       "      <td>1.049057e+06</td>\n",
       "      <td>0.000000e+00</td>\n",
       "      <td>0.000000e+00</td>\n",
       "      <td>1.340000e+02</td>\n",
       "      <td>5.700000e+01</td>\n",
       "      <td>3.795814e+07</td>\n",
       "    </tr>\n",
       "    <tr>\n",
       "      <th>max</th>\n",
       "      <td>8.316671e+07</td>\n",
       "      <td>9.818370e+06</td>\n",
       "      <td>4.100000e+06</td>\n",
       "      <td>3.374704e+06</td>\n",
       "      <td>3.067093e+06</td>\n",
       "      <td>8.316671e+07</td>\n",
       "    </tr>\n",
       "  </tbody>\n",
       "</table>\n",
       "</div>"
      ],
      "text/plain": [
       "        Denominator  DosesReceived      Exported     FirstDose    SecondDose  \\\n",
       "count  1.544410e+05   4.170300e+04  3.070000e+04  2.624480e+05  2.624480e+05   \n",
       "mean   1.729972e+06   4.856856e+04  3.728049e+03  3.469876e+03  3.151169e+03   \n",
       "std    6.317091e+06   2.367111e+05  6.475408e+04  3.759447e+04  3.678639e+04   \n",
       "min    9.680000e+02   0.000000e+00  0.000000e+00  0.000000e+00  0.000000e+00   \n",
       "25%    9.488400e+04   0.000000e+00  0.000000e+00  0.000000e+00  0.000000e+00   \n",
       "50%    2.630180e+05   0.000000e+00  0.000000e+00  1.000000e+00  0.000000e+00   \n",
       "75%    1.049057e+06   0.000000e+00  0.000000e+00  1.340000e+02  5.700000e+01   \n",
       "max    8.316671e+07   9.818370e+06  4.100000e+06  3.374704e+06  3.067093e+06   \n",
       "\n",
       "         Population  \n",
       "count  2.624480e+05  \n",
       "mean   1.835151e+07  \n",
       "std    1.911059e+07  \n",
       "min    3.874700e+04  \n",
       "25%    5.525292e+06  \n",
       "50%    5.525292e+06  \n",
       "75%    3.795814e+07  \n",
       "max    8.316671e+07  "
      ]
     },
     "execution_count": 97,
     "metadata": {},
     "output_type": "execute_result"
    }
   ],
   "source": [
    "df.describe()"
   ]
  },
  {
   "cell_type": "code",
   "execution_count": 98,
   "metadata": {},
   "outputs": [
    {
     "name": "stdout",
     "output_type": "stream",
     "text": [
      "<class 'pandas.core.frame.DataFrame'>\n",
      "RangeIndex: 262448 entries, 0 to 262447\n",
      "Data columns (total 11 columns):\n",
      " #   Column         Non-Null Count   Dtype  \n",
      "---  ------         --------------   -----  \n",
      " 0   YearWeekISO    262448 non-null  object \n",
      " 1   Country        262448 non-null  object \n",
      " 2   Denominator    154441 non-null  float64\n",
      " 3   DosesReceived  41703 non-null   float64\n",
      " 4   Exported       30700 non-null   float64\n",
      " 5   FirstDose      262448 non-null  int64  \n",
      " 6   SecondDose     262448 non-null  int64  \n",
      " 7   Region         262448 non-null  object \n",
      " 8   TargetGroup    262448 non-null  object \n",
      " 9   Vaccine        262448 non-null  object \n",
      " 10  Population     262448 non-null  int64  \n",
      "dtypes: float64(3), int64(3), object(5)\n",
      "memory usage: 22.0+ MB\n"
     ]
    }
   ],
   "source": [
    "df.info()"
   ]
  },
  {
   "cell_type": "code",
   "execution_count": 100,
   "metadata": {},
   "outputs": [],
   "source": [
    "df = df.fillna(\"NA\")"
   ]
  },
  {
   "cell_type": "code",
   "execution_count": 102,
   "metadata": {},
   "outputs": [
    {
     "name": "stdout",
     "output_type": "stream",
     "text": [
      "<class 'pandas.core.frame.DataFrame'>\n",
      "RangeIndex: 262448 entries, 0 to 262447\n",
      "Data columns (total 11 columns):\n",
      " #   Column         Non-Null Count   Dtype \n",
      "---  ------         --------------   ----- \n",
      " 0   YearWeekISO    262448 non-null  object\n",
      " 1   Country        262448 non-null  object\n",
      " 2   Denominator    262448 non-null  object\n",
      " 3   DosesReceived  262448 non-null  object\n",
      " 4   Exported       262448 non-null  object\n",
      " 5   FirstDose      262448 non-null  int64 \n",
      " 6   SecondDose     262448 non-null  int64 \n",
      " 7   Region         262448 non-null  object\n",
      " 8   TargetGroup    262448 non-null  object\n",
      " 9   Vaccine        262448 non-null  object\n",
      " 10  Population     262448 non-null  int64 \n",
      "dtypes: int64(3), object(8)\n",
      "memory usage: 22.0+ MB\n"
     ]
    }
   ],
   "source": [
    "df.info()"
   ]
  },
  {
   "cell_type": "code",
   "execution_count": 103,
   "metadata": {},
   "outputs": [
    {
     "data": {
      "text/html": [
       "<div>\n",
       "<style scoped>\n",
       "    .dataframe tbody tr th:only-of-type {\n",
       "        vertical-align: middle;\n",
       "    }\n",
       "\n",
       "    .dataframe tbody tr th {\n",
       "        vertical-align: top;\n",
       "    }\n",
       "\n",
       "    .dataframe thead th {\n",
       "        text-align: right;\n",
       "    }\n",
       "</style>\n",
       "<table border=\"1\" class=\"dataframe\">\n",
       "  <thead>\n",
       "    <tr style=\"text-align: right;\">\n",
       "      <th></th>\n",
       "      <th>YearWeekISO</th>\n",
       "      <th>Country</th>\n",
       "      <th>Denominator</th>\n",
       "      <th>DosesReceived</th>\n",
       "      <th>Exported</th>\n",
       "      <th>FirstDose</th>\n",
       "      <th>SecondDose</th>\n",
       "      <th>Region</th>\n",
       "      <th>TargetGroup</th>\n",
       "      <th>Vaccine</th>\n",
       "      <th>Population</th>\n",
       "    </tr>\n",
       "  </thead>\n",
       "  <tbody>\n",
       "    <tr>\n",
       "      <th>0</th>\n",
       "      <td>2020-W53</td>\n",
       "      <td>AT</td>\n",
       "      <td>8.90106e+06</td>\n",
       "      <td>0</td>\n",
       "      <td>0</td>\n",
       "      <td>0</td>\n",
       "      <td>0</td>\n",
       "      <td>AT</td>\n",
       "      <td>ALL</td>\n",
       "      <td>AZ</td>\n",
       "      <td>8901064</td>\n",
       "    </tr>\n",
       "    <tr>\n",
       "      <th>1</th>\n",
       "      <td>2020-W53</td>\n",
       "      <td>AT</td>\n",
       "      <td>8.90106e+06</td>\n",
       "      <td>0</td>\n",
       "      <td>0</td>\n",
       "      <td>3</td>\n",
       "      <td>0</td>\n",
       "      <td>AT</td>\n",
       "      <td>ALL</td>\n",
       "      <td>UNK</td>\n",
       "      <td>8901064</td>\n",
       "    </tr>\n",
       "    <tr>\n",
       "      <th>2</th>\n",
       "      <td>2020-W53</td>\n",
       "      <td>AT</td>\n",
       "      <td>8.90106e+06</td>\n",
       "      <td>0</td>\n",
       "      <td>0</td>\n",
       "      <td>0</td>\n",
       "      <td>0</td>\n",
       "      <td>AT</td>\n",
       "      <td>ALL</td>\n",
       "      <td>MOD</td>\n",
       "      <td>8901064</td>\n",
       "    </tr>\n",
       "    <tr>\n",
       "      <th>3</th>\n",
       "      <td>2020-W53</td>\n",
       "      <td>AT</td>\n",
       "      <td>8.90106e+06</td>\n",
       "      <td>0</td>\n",
       "      <td>0</td>\n",
       "      <td>0</td>\n",
       "      <td>0</td>\n",
       "      <td>AT</td>\n",
       "      <td>ALL</td>\n",
       "      <td>JANSS</td>\n",
       "      <td>8901064</td>\n",
       "    </tr>\n",
       "    <tr>\n",
       "      <th>4</th>\n",
       "      <td>2020-W53</td>\n",
       "      <td>AT</td>\n",
       "      <td>8.90106e+06</td>\n",
       "      <td>0</td>\n",
       "      <td>0</td>\n",
       "      <td>0</td>\n",
       "      <td>0</td>\n",
       "      <td>AT</td>\n",
       "      <td>ALL</td>\n",
       "      <td>NVXD</td>\n",
       "      <td>8901064</td>\n",
       "    </tr>\n",
       "    <tr>\n",
       "      <th>5</th>\n",
       "      <td>2020-W53</td>\n",
       "      <td>AT</td>\n",
       "      <td>8.90106e+06</td>\n",
       "      <td>61425</td>\n",
       "      <td>0</td>\n",
       "      <td>5314</td>\n",
       "      <td>0</td>\n",
       "      <td>AT</td>\n",
       "      <td>ALL</td>\n",
       "      <td>COM</td>\n",
       "      <td>8901064</td>\n",
       "    </tr>\n",
       "    <tr>\n",
       "      <th>6</th>\n",
       "      <td>2020-W53</td>\n",
       "      <td>AT</td>\n",
       "      <td>435835</td>\n",
       "      <td>0</td>\n",
       "      <td>0</td>\n",
       "      <td>0</td>\n",
       "      <td>0</td>\n",
       "      <td>AT</td>\n",
       "      <td>Age0_4</td>\n",
       "      <td>MOD</td>\n",
       "      <td>8901064</td>\n",
       "    </tr>\n",
       "    <tr>\n",
       "      <th>7</th>\n",
       "      <td>2020-W53</td>\n",
       "      <td>AT</td>\n",
       "      <td>435835</td>\n",
       "      <td>0</td>\n",
       "      <td>0</td>\n",
       "      <td>0</td>\n",
       "      <td>0</td>\n",
       "      <td>AT</td>\n",
       "      <td>Age0_4</td>\n",
       "      <td>UNK</td>\n",
       "      <td>8901064</td>\n",
       "    </tr>\n",
       "    <tr>\n",
       "      <th>8</th>\n",
       "      <td>2020-W53</td>\n",
       "      <td>AT</td>\n",
       "      <td>435835</td>\n",
       "      <td>61425</td>\n",
       "      <td>0</td>\n",
       "      <td>1</td>\n",
       "      <td>0</td>\n",
       "      <td>AT</td>\n",
       "      <td>Age0_4</td>\n",
       "      <td>COM</td>\n",
       "      <td>8901064</td>\n",
       "    </tr>\n",
       "    <tr>\n",
       "      <th>9</th>\n",
       "      <td>2020-W53</td>\n",
       "      <td>AT</td>\n",
       "      <td>435835</td>\n",
       "      <td>0</td>\n",
       "      <td>0</td>\n",
       "      <td>0</td>\n",
       "      <td>0</td>\n",
       "      <td>AT</td>\n",
       "      <td>Age0_4</td>\n",
       "      <td>AZ</td>\n",
       "      <td>8901064</td>\n",
       "    </tr>\n",
       "  </tbody>\n",
       "</table>\n",
       "</div>"
      ],
      "text/plain": [
       "  YearWeekISO Country  Denominator DosesReceived Exported  FirstDose  \\\n",
       "0    2020-W53      AT  8.90106e+06             0        0          0   \n",
       "1    2020-W53      AT  8.90106e+06             0        0          3   \n",
       "2    2020-W53      AT  8.90106e+06             0        0          0   \n",
       "3    2020-W53      AT  8.90106e+06             0        0          0   \n",
       "4    2020-W53      AT  8.90106e+06             0        0          0   \n",
       "5    2020-W53      AT  8.90106e+06         61425        0       5314   \n",
       "6    2020-W53      AT       435835             0        0          0   \n",
       "7    2020-W53      AT       435835             0        0          0   \n",
       "8    2020-W53      AT       435835         61425        0          1   \n",
       "9    2020-W53      AT       435835             0        0          0   \n",
       "\n",
       "   SecondDose Region TargetGroup Vaccine  Population  \n",
       "0           0     AT         ALL      AZ     8901064  \n",
       "1           0     AT         ALL     UNK     8901064  \n",
       "2           0     AT         ALL     MOD     8901064  \n",
       "3           0     AT         ALL   JANSS     8901064  \n",
       "4           0     AT         ALL    NVXD     8901064  \n",
       "5           0     AT         ALL     COM     8901064  \n",
       "6           0     AT      Age0_4     MOD     8901064  \n",
       "7           0     AT      Age0_4     UNK     8901064  \n",
       "8           0     AT      Age0_4     COM     8901064  \n",
       "9           0     AT      Age0_4      AZ     8901064  "
      ]
     },
     "execution_count": 103,
     "metadata": {},
     "output_type": "execute_result"
    }
   ],
   "source": [
    "df.head(10)"
   ]
  },
  {
   "cell_type": "code",
   "execution_count": 108,
   "metadata": {},
   "outputs": [],
   "source": [
    "df2 = df.groupby('YearWeekISO')[['DosesReceived','FirstDose','SecondDose']].sum().reset_index()"
   ]
  },
  {
   "cell_type": "code",
   "execution_count": 109,
   "metadata": {},
   "outputs": [
    {
     "data": {
      "text/html": [
       "<div>\n",
       "<style scoped>\n",
       "    .dataframe tbody tr th:only-of-type {\n",
       "        vertical-align: middle;\n",
       "    }\n",
       "\n",
       "    .dataframe tbody tr th {\n",
       "        vertical-align: top;\n",
       "    }\n",
       "\n",
       "    .dataframe thead th {\n",
       "        text-align: right;\n",
       "    }\n",
       "</style>\n",
       "<table border=\"1\" class=\"dataframe\">\n",
       "  <thead>\n",
       "    <tr style=\"text-align: right;\">\n",
       "      <th></th>\n",
       "      <th>YearWeekISO</th>\n",
       "      <th>FirstDose</th>\n",
       "      <th>SecondDose</th>\n",
       "    </tr>\n",
       "  </thead>\n",
       "  <tbody>\n",
       "    <tr>\n",
       "      <th>0</th>\n",
       "      <td>2020-W50</td>\n",
       "      <td>4</td>\n",
       "      <td>0</td>\n",
       "    </tr>\n",
       "    <tr>\n",
       "      <th>1</th>\n",
       "      <td>2020-W51</td>\n",
       "      <td>11</td>\n",
       "      <td>0</td>\n",
       "    </tr>\n",
       "    <tr>\n",
       "      <th>2</th>\n",
       "      <td>2020-W52</td>\n",
       "      <td>154836</td>\n",
       "      <td>81</td>\n",
       "    </tr>\n",
       "    <tr>\n",
       "      <th>3</th>\n",
       "      <td>2020-W53</td>\n",
       "      <td>1996747</td>\n",
       "      <td>2178</td>\n",
       "    </tr>\n",
       "    <tr>\n",
       "      <th>4</th>\n",
       "      <td>2021-W01</td>\n",
       "      <td>6165588</td>\n",
       "      <td>2918</td>\n",
       "    </tr>\n",
       "    <tr>\n",
       "      <th>...</th>\n",
       "      <td>...</td>\n",
       "      <td>...</td>\n",
       "      <td>...</td>\n",
       "    </tr>\n",
       "    <tr>\n",
       "      <th>64</th>\n",
       "      <td>2022-W09</td>\n",
       "      <td>459747</td>\n",
       "      <td>1618925</td>\n",
       "    </tr>\n",
       "    <tr>\n",
       "      <th>65</th>\n",
       "      <td>2022-W10</td>\n",
       "      <td>356605</td>\n",
       "      <td>1270803</td>\n",
       "    </tr>\n",
       "    <tr>\n",
       "      <th>66</th>\n",
       "      <td>2022-W11</td>\n",
       "      <td>309432</td>\n",
       "      <td>970285</td>\n",
       "    </tr>\n",
       "    <tr>\n",
       "      <th>67</th>\n",
       "      <td>2022-W12</td>\n",
       "      <td>272535</td>\n",
       "      <td>774252</td>\n",
       "    </tr>\n",
       "    <tr>\n",
       "      <th>68</th>\n",
       "      <td>2022-W13</td>\n",
       "      <td>5685</td>\n",
       "      <td>11256</td>\n",
       "    </tr>\n",
       "  </tbody>\n",
       "</table>\n",
       "<p>69 rows × 3 columns</p>\n",
       "</div>"
      ],
      "text/plain": [
       "   YearWeekISO  FirstDose  SecondDose\n",
       "0     2020-W50          4           0\n",
       "1     2020-W51         11           0\n",
       "2     2020-W52     154836          81\n",
       "3     2020-W53    1996747        2178\n",
       "4     2021-W01    6165588        2918\n",
       "..         ...        ...         ...\n",
       "64    2022-W09     459747     1618925\n",
       "65    2022-W10     356605     1270803\n",
       "66    2022-W11     309432      970285\n",
       "67    2022-W12     272535      774252\n",
       "68    2022-W13       5685       11256\n",
       "\n",
       "[69 rows x 3 columns]"
      ]
     },
     "execution_count": 109,
     "metadata": {},
     "output_type": "execute_result"
    }
   ],
   "source": [
    "df2"
   ]
  },
  {
   "cell_type": "code",
   "execution_count": 110,
   "metadata": {},
   "outputs": [],
   "source": [
    "import matplotlib.pyplot as plt"
   ]
  },
  {
   "cell_type": "code",
   "execution_count": 111,
   "metadata": {},
   "outputs": [
    {
     "data": {
      "text/plain": [
       "[<matplotlib.lines.Line2D at 0x1fef43c36a0>]"
      ]
     },
     "execution_count": 111,
     "metadata": {},
     "output_type": "execute_result"
    },
    {
     "data": {
      "image/png": "[encoded data removed]",
      "text/plain": [
       "<Figure size 432x288 with 1 Axes>"
      ]
     },
     "metadata": {
      "needs_background": "light"
     },
     "output_type": "display_data"
    }
   ],
   "source": [
    "x = np.linspace(0,10,1000)\n",
    "y = np.sin(x)\n",
    "plt.plot(x,y)"
   ]
  },
  {
   "cell_type": "code",
   "execution_count": 113,
   "metadata": {},
   "outputs": [
    {
     "data": {
      "text/plain": [
       "<matplotlib.collections.PathCollection at 0x1fefe73d5e0>"
      ]
     },
     "execution_count": 113,
     "metadata": {},
     "output_type": "execute_result"
    },
    {
     "data": {
      "image/png": "[encoded data removed]",
      "text/plain": [
       "<Figure size 432x288 with 1 Axes>"
      ]
     },
     "metadata": {
      "needs_background": "light"
     },
     "output_type": "display_data"
    }
   ],
   "source": [
    "plt.scatter(x[:30],y[:30])"
   ]
  },
  {
   "cell_type": "code",
   "execution_count": 119,
   "metadata": {},
   "outputs": [
    {
     "data": {
      "text/plain": [
       "<matplotlib.collections.PathCollection at 0x1fe81094e80>"
      ]
     },
     "execution_count": 119,
     "metadata": {},
     "output_type": "execute_result"
    },
    {
     "data": {
      "image/png": "[encoded data removed]",
      "text/plain": [
       "<Figure size 432x288 with 1 Axes>"
      ]
     },
     "metadata": {
      "needs_background": "light"
     },
     "output_type": "display_data"
    }
   ],
   "source": [
    "plt.scatter(x[::10],y[::10], color='red')"
   ]
  },
  {
   "cell_type": "code",
   "execution_count": 122,
   "metadata": {},
   "outputs": [
    {
     "data": {
      "text/plain": [
       "[<matplotlib.lines.Line2D at 0x1fe814315b0>]"
      ]
     },
     "execution_count": 122,
     "metadata": {},
     "output_type": "execute_result"
    },
    {
     "data": {
      "image/png": "[encoded data removed]",
      "text/plain": [
       "<Figure size 432x288 with 1 Axes>"
      ]
     },
     "metadata": {
      "needs_background": "light"
     },
     "output_type": "display_data"
    }
   ],
   "source": [
    "plt.plot(x,y, color = 'b')\n",
    "plt.plot(x,np.cos(x), color='g')\n"
   ]
  },
  {
   "cell_type": "code",
   "execution_count": 123,
   "metadata": {},
   "outputs": [
    {
     "data": {
      "text/plain": [
       "[<matplotlib.lines.Line2D at 0x1fe8148fbe0>]"
      ]
     },
     "execution_count": 123,
     "metadata": {},
     "output_type": "execute_result"
    },
    {
     "data": {
      "image/png": "[encoded data removed]",
      "text/plain": [
       "<Figure size 432x288 with 1 Axes>"
      ]
     },
     "metadata": {
      "needs_background": "light"
     },
     "output_type": "display_data"
    }
   ],
   "source": [
    "plt.plot(x,x+0,'-g') #solid green\n",
    "plt.plot(x,x+1, '--c') #dashed cyan\n",
    "plt.plot(x,x+2,'-.k') #dashdot black\n",
    "plt.plot(x,x+3, ':r') # dotted red"
   ]
  },
  {
   "cell_type": "code",
   "execution_count": null,
   "metadata": {},
   "outputs": [],
   "source": []
  }
 ],
 "metadata": {
  "kernelspec": {
   "display_name": "Python 3",
   "language": "python",
   "name": "python3"
  },
  "language_info": {
   "codemirror_mode": {
    "name": "ipython",
    "version": 3
   },
   "file_extension": ".py",
   "mimetype": "text/x-python",
   "name": "python",
   "nbconvert_exporter": "python",
   "pygments_lexer": "ipython3",
   "version": "3.8.5"
  }
 },
 "nbformat": 4,
 "nbformat_minor": 4
}
